{
 "cells": [
  {
   "cell_type": "code",
   "execution_count": 5,
   "metadata": {},
   "outputs": [],
   "source": [
    "#import important  libraries\n",
    "import pandas as pd \n",
    "import numpy as np\n",
    "import matplotlib.pyplot as plt\n",
    "%matplotlib inline"
   ]
  },
  {
   "cell_type": "code",
   "execution_count": 6,
   "metadata": {},
   "outputs": [],
   "source": [
    "#read data file\n",
    "data = pd.read_csv('C:/Users/T George/Desktop/news/movie_metadata.csv')"
   ]
  },
  {
   "cell_type": "code",
   "execution_count": 5,
   "metadata": {},
   "outputs": [
    {
     "data": {
      "text/html": [
       "<div>\n",
       "<table border=\"1\" class=\"dataframe\">\n",
       "  <thead>\n",
       "    <tr style=\"text-align: right;\">\n",
       "      <th></th>\n",
       "      <th>color</th>\n",
       "      <th>director_name</th>\n",
       "      <th>num_critic_for_reviews</th>\n",
       "      <th>duration</th>\n",
       "      <th>director_facebook_likes</th>\n",
       "      <th>actor_3_facebook_likes</th>\n",
       "      <th>actor_2_name</th>\n",
       "      <th>actor_1_facebook_likes</th>\n",
       "      <th>gross</th>\n",
       "      <th>genres</th>\n",
       "      <th>...</th>\n",
       "      <th>num_user_for_reviews</th>\n",
       "      <th>language</th>\n",
       "      <th>country</th>\n",
       "      <th>content_rating</th>\n",
       "      <th>budget</th>\n",
       "      <th>title_year</th>\n",
       "      <th>actor_2_facebook_likes</th>\n",
       "      <th>imdb_score</th>\n",
       "      <th>aspect_ratio</th>\n",
       "      <th>movie_facebook_likes</th>\n",
       "    </tr>\n",
       "  </thead>\n",
       "  <tbody>\n",
       "    <tr>\n",
       "      <th>0</th>\n",
       "      <td>Color</td>\n",
       "      <td>James Cameron</td>\n",
       "      <td>723.0</td>\n",
       "      <td>178.0</td>\n",
       "      <td>0.0</td>\n",
       "      <td>855.0</td>\n",
       "      <td>Joel David Moore</td>\n",
       "      <td>1000.0</td>\n",
       "      <td>760505847.0</td>\n",
       "      <td>Action|Adventure|Fantasy|Sci-Fi</td>\n",
       "      <td>...</td>\n",
       "      <td>3054.0</td>\n",
       "      <td>English</td>\n",
       "      <td>USA</td>\n",
       "      <td>PG-13</td>\n",
       "      <td>237000000.0</td>\n",
       "      <td>2009.0</td>\n",
       "      <td>936.0</td>\n",
       "      <td>7.9</td>\n",
       "      <td>1.78</td>\n",
       "      <td>33000</td>\n",
       "    </tr>\n",
       "    <tr>\n",
       "      <th>1</th>\n",
       "      <td>Color</td>\n",
       "      <td>Gore Verbinski</td>\n",
       "      <td>302.0</td>\n",
       "      <td>169.0</td>\n",
       "      <td>563.0</td>\n",
       "      <td>1000.0</td>\n",
       "      <td>Orlando Bloom</td>\n",
       "      <td>40000.0</td>\n",
       "      <td>309404152.0</td>\n",
       "      <td>Action|Adventure|Fantasy</td>\n",
       "      <td>...</td>\n",
       "      <td>1238.0</td>\n",
       "      <td>English</td>\n",
       "      <td>USA</td>\n",
       "      <td>PG-13</td>\n",
       "      <td>300000000.0</td>\n",
       "      <td>2007.0</td>\n",
       "      <td>5000.0</td>\n",
       "      <td>7.1</td>\n",
       "      <td>2.35</td>\n",
       "      <td>0</td>\n",
       "    </tr>\n",
       "    <tr>\n",
       "      <th>2</th>\n",
       "      <td>Color</td>\n",
       "      <td>Sam Mendes</td>\n",
       "      <td>602.0</td>\n",
       "      <td>148.0</td>\n",
       "      <td>0.0</td>\n",
       "      <td>161.0</td>\n",
       "      <td>Rory Kinnear</td>\n",
       "      <td>11000.0</td>\n",
       "      <td>200074175.0</td>\n",
       "      <td>Action|Adventure|Thriller</td>\n",
       "      <td>...</td>\n",
       "      <td>994.0</td>\n",
       "      <td>English</td>\n",
       "      <td>UK</td>\n",
       "      <td>PG-13</td>\n",
       "      <td>245000000.0</td>\n",
       "      <td>2015.0</td>\n",
       "      <td>393.0</td>\n",
       "      <td>6.8</td>\n",
       "      <td>2.35</td>\n",
       "      <td>85000</td>\n",
       "    </tr>\n",
       "  </tbody>\n",
       "</table>\n",
       "<p>3 rows × 28 columns</p>\n",
       "</div>"
      ],
      "text/plain": [
       "   color   director_name  num_critic_for_reviews  duration  \\\n",
       "0  Color   James Cameron                   723.0     178.0   \n",
       "1  Color  Gore Verbinski                   302.0     169.0   \n",
       "2  Color      Sam Mendes                   602.0     148.0   \n",
       "\n",
       "   director_facebook_likes  actor_3_facebook_likes      actor_2_name  \\\n",
       "0                      0.0                   855.0  Joel David Moore   \n",
       "1                    563.0                  1000.0     Orlando Bloom   \n",
       "2                      0.0                   161.0      Rory Kinnear   \n",
       "\n",
       "   actor_1_facebook_likes        gross                           genres  \\\n",
       "0                  1000.0  760505847.0  Action|Adventure|Fantasy|Sci-Fi   \n",
       "1                 40000.0  309404152.0         Action|Adventure|Fantasy   \n",
       "2                 11000.0  200074175.0        Action|Adventure|Thriller   \n",
       "\n",
       "          ...          num_user_for_reviews language  country  content_rating  \\\n",
       "0         ...                        3054.0  English      USA           PG-13   \n",
       "1         ...                        1238.0  English      USA           PG-13   \n",
       "2         ...                         994.0  English       UK           PG-13   \n",
       "\n",
       "        budget  title_year actor_2_facebook_likes imdb_score  aspect_ratio  \\\n",
       "0  237000000.0      2009.0                  936.0        7.9          1.78   \n",
       "1  300000000.0      2007.0                 5000.0        7.1          2.35   \n",
       "2  245000000.0      2015.0                  393.0        6.8          2.35   \n",
       "\n",
       "  movie_facebook_likes  \n",
       "0                33000  \n",
       "1                    0  \n",
       "2                85000  \n",
       "\n",
       "[3 rows x 28 columns]"
      ]
     },
     "execution_count": 5,
     "metadata": {},
     "output_type": "execute_result"
    }
   ],
   "source": [
    "data.head(3)"
   ]
  },
  {
   "cell_type": "code",
   "execution_count": 6,
   "metadata": {},
   "outputs": [
    {
     "data": {
      "text/html": [
       "<div>\n",
       "<table border=\"1\" class=\"dataframe\">\n",
       "  <thead>\n",
       "    <tr style=\"text-align: right;\">\n",
       "      <th></th>\n",
       "      <th>color</th>\n",
       "      <th>director_name</th>\n",
       "      <th>num_critic_for_reviews</th>\n",
       "      <th>duration</th>\n",
       "      <th>director_facebook_likes</th>\n",
       "      <th>actor_3_facebook_likes</th>\n",
       "      <th>actor_2_name</th>\n",
       "      <th>actor_1_facebook_likes</th>\n",
       "      <th>gross</th>\n",
       "      <th>genres</th>\n",
       "      <th>...</th>\n",
       "      <th>num_user_for_reviews</th>\n",
       "      <th>language</th>\n",
       "      <th>country</th>\n",
       "      <th>content_rating</th>\n",
       "      <th>budget</th>\n",
       "      <th>title_year</th>\n",
       "      <th>actor_2_facebook_likes</th>\n",
       "      <th>imdb_score</th>\n",
       "      <th>aspect_ratio</th>\n",
       "      <th>movie_facebook_likes</th>\n",
       "    </tr>\n",
       "  </thead>\n",
       "  <tbody>\n",
       "    <tr>\n",
       "      <th>5040</th>\n",
       "      <td>Color</td>\n",
       "      <td>Benjamin Roberds</td>\n",
       "      <td>13.0</td>\n",
       "      <td>76.0</td>\n",
       "      <td>0.0</td>\n",
       "      <td>0.0</td>\n",
       "      <td>Maxwell Moody</td>\n",
       "      <td>0.0</td>\n",
       "      <td>NaN</td>\n",
       "      <td>Drama|Horror|Thriller</td>\n",
       "      <td>...</td>\n",
       "      <td>3.0</td>\n",
       "      <td>English</td>\n",
       "      <td>USA</td>\n",
       "      <td>NaN</td>\n",
       "      <td>1400.0</td>\n",
       "      <td>2013.0</td>\n",
       "      <td>0.0</td>\n",
       "      <td>6.3</td>\n",
       "      <td>NaN</td>\n",
       "      <td>16</td>\n",
       "    </tr>\n",
       "    <tr>\n",
       "      <th>5041</th>\n",
       "      <td>Color</td>\n",
       "      <td>Daniel Hsia</td>\n",
       "      <td>14.0</td>\n",
       "      <td>100.0</td>\n",
       "      <td>0.0</td>\n",
       "      <td>489.0</td>\n",
       "      <td>Daniel Henney</td>\n",
       "      <td>946.0</td>\n",
       "      <td>10443.0</td>\n",
       "      <td>Comedy|Drama|Romance</td>\n",
       "      <td>...</td>\n",
       "      <td>9.0</td>\n",
       "      <td>English</td>\n",
       "      <td>USA</td>\n",
       "      <td>PG-13</td>\n",
       "      <td>NaN</td>\n",
       "      <td>2012.0</td>\n",
       "      <td>719.0</td>\n",
       "      <td>6.3</td>\n",
       "      <td>2.35</td>\n",
       "      <td>660</td>\n",
       "    </tr>\n",
       "    <tr>\n",
       "      <th>5042</th>\n",
       "      <td>Color</td>\n",
       "      <td>Jon Gunn</td>\n",
       "      <td>43.0</td>\n",
       "      <td>90.0</td>\n",
       "      <td>16.0</td>\n",
       "      <td>16.0</td>\n",
       "      <td>Brian Herzlinger</td>\n",
       "      <td>86.0</td>\n",
       "      <td>85222.0</td>\n",
       "      <td>Documentary</td>\n",
       "      <td>...</td>\n",
       "      <td>84.0</td>\n",
       "      <td>English</td>\n",
       "      <td>USA</td>\n",
       "      <td>PG</td>\n",
       "      <td>1100.0</td>\n",
       "      <td>2004.0</td>\n",
       "      <td>23.0</td>\n",
       "      <td>6.6</td>\n",
       "      <td>1.85</td>\n",
       "      <td>456</td>\n",
       "    </tr>\n",
       "  </tbody>\n",
       "</table>\n",
       "<p>3 rows × 28 columns</p>\n",
       "</div>"
      ],
      "text/plain": [
       "      color     director_name  num_critic_for_reviews  duration  \\\n",
       "5040  Color  Benjamin Roberds                    13.0      76.0   \n",
       "5041  Color       Daniel Hsia                    14.0     100.0   \n",
       "5042  Color          Jon Gunn                    43.0      90.0   \n",
       "\n",
       "      director_facebook_likes  actor_3_facebook_likes      actor_2_name  \\\n",
       "5040                      0.0                     0.0     Maxwell Moody   \n",
       "5041                      0.0                   489.0     Daniel Henney   \n",
       "5042                     16.0                    16.0  Brian Herzlinger   \n",
       "\n",
       "      actor_1_facebook_likes    gross                 genres  \\\n",
       "5040                     0.0      NaN  Drama|Horror|Thriller   \n",
       "5041                   946.0  10443.0   Comedy|Drama|Romance   \n",
       "5042                    86.0  85222.0            Documentary   \n",
       "\n",
       "             ...          num_user_for_reviews language  country  \\\n",
       "5040         ...                           3.0  English      USA   \n",
       "5041         ...                           9.0  English      USA   \n",
       "5042         ...                          84.0  English      USA   \n",
       "\n",
       "      content_rating  budget  title_year actor_2_facebook_likes imdb_score  \\\n",
       "5040             NaN  1400.0      2013.0                    0.0        6.3   \n",
       "5041           PG-13     NaN      2012.0                  719.0        6.3   \n",
       "5042              PG  1100.0      2004.0                   23.0        6.6   \n",
       "\n",
       "      aspect_ratio movie_facebook_likes  \n",
       "5040           NaN                   16  \n",
       "5041          2.35                  660  \n",
       "5042          1.85                  456  \n",
       "\n",
       "[3 rows x 28 columns]"
      ]
     },
     "execution_count": 6,
     "metadata": {},
     "output_type": "execute_result"
    }
   ],
   "source": [
    "data.tail(3)"
   ]
  },
  {
   "cell_type": "code",
   "execution_count": 7,
   "metadata": {},
   "outputs": [
    {
     "data": {
      "text/plain": [
       "(5043, 28)"
      ]
     },
     "execution_count": 7,
     "metadata": {},
     "output_type": "execute_result"
    }
   ],
   "source": [
    "data.shape"
   ]
  },
  {
   "cell_type": "code",
   "execution_count": 8,
   "metadata": {},
   "outputs": [
    {
     "data": {
      "text/html": [
       "<div>\n",
       "<table border=\"1\" class=\"dataframe\">\n",
       "  <thead>\n",
       "    <tr style=\"text-align: right;\">\n",
       "      <th></th>\n",
       "      <th>num_critic_for_reviews</th>\n",
       "      <th>duration</th>\n",
       "      <th>director_facebook_likes</th>\n",
       "      <th>actor_3_facebook_likes</th>\n",
       "      <th>actor_1_facebook_likes</th>\n",
       "      <th>gross</th>\n",
       "      <th>num_voted_users</th>\n",
       "      <th>cast_total_facebook_likes</th>\n",
       "      <th>facenumber_in_poster</th>\n",
       "      <th>num_user_for_reviews</th>\n",
       "      <th>budget</th>\n",
       "      <th>title_year</th>\n",
       "      <th>actor_2_facebook_likes</th>\n",
       "      <th>imdb_score</th>\n",
       "      <th>aspect_ratio</th>\n",
       "      <th>movie_facebook_likes</th>\n",
       "    </tr>\n",
       "  </thead>\n",
       "  <tbody>\n",
       "    <tr>\n",
       "      <th>count</th>\n",
       "      <td>4993.000000</td>\n",
       "      <td>5028.000000</td>\n",
       "      <td>4939.000000</td>\n",
       "      <td>5020.000000</td>\n",
       "      <td>5036.000000</td>\n",
       "      <td>4.159000e+03</td>\n",
       "      <td>5.043000e+03</td>\n",
       "      <td>5043.000000</td>\n",
       "      <td>5030.000000</td>\n",
       "      <td>5022.000000</td>\n",
       "      <td>4.551000e+03</td>\n",
       "      <td>4935.000000</td>\n",
       "      <td>5030.000000</td>\n",
       "      <td>5043.000000</td>\n",
       "      <td>4714.000000</td>\n",
       "      <td>5043.000000</td>\n",
       "    </tr>\n",
       "    <tr>\n",
       "      <th>mean</th>\n",
       "      <td>140.194272</td>\n",
       "      <td>107.201074</td>\n",
       "      <td>686.509212</td>\n",
       "      <td>645.009761</td>\n",
       "      <td>6560.047061</td>\n",
       "      <td>4.846841e+07</td>\n",
       "      <td>8.366816e+04</td>\n",
       "      <td>9699.063851</td>\n",
       "      <td>1.371173</td>\n",
       "      <td>272.770808</td>\n",
       "      <td>3.975262e+07</td>\n",
       "      <td>2002.470517</td>\n",
       "      <td>1651.754473</td>\n",
       "      <td>6.442138</td>\n",
       "      <td>2.220403</td>\n",
       "      <td>7525.964505</td>\n",
       "    </tr>\n",
       "    <tr>\n",
       "      <th>std</th>\n",
       "      <td>121.601675</td>\n",
       "      <td>25.197441</td>\n",
       "      <td>2813.328607</td>\n",
       "      <td>1665.041728</td>\n",
       "      <td>15020.759120</td>\n",
       "      <td>6.845299e+07</td>\n",
       "      <td>1.384853e+05</td>\n",
       "      <td>18163.799124</td>\n",
       "      <td>2.013576</td>\n",
       "      <td>377.982886</td>\n",
       "      <td>2.061149e+08</td>\n",
       "      <td>12.474599</td>\n",
       "      <td>4042.438863</td>\n",
       "      <td>1.125116</td>\n",
       "      <td>1.385113</td>\n",
       "      <td>19320.445110</td>\n",
       "    </tr>\n",
       "    <tr>\n",
       "      <th>min</th>\n",
       "      <td>1.000000</td>\n",
       "      <td>7.000000</td>\n",
       "      <td>0.000000</td>\n",
       "      <td>0.000000</td>\n",
       "      <td>0.000000</td>\n",
       "      <td>1.620000e+02</td>\n",
       "      <td>5.000000e+00</td>\n",
       "      <td>0.000000</td>\n",
       "      <td>0.000000</td>\n",
       "      <td>1.000000</td>\n",
       "      <td>2.180000e+02</td>\n",
       "      <td>1916.000000</td>\n",
       "      <td>0.000000</td>\n",
       "      <td>1.600000</td>\n",
       "      <td>1.180000</td>\n",
       "      <td>0.000000</td>\n",
       "    </tr>\n",
       "    <tr>\n",
       "      <th>25%</th>\n",
       "      <td>50.000000</td>\n",
       "      <td>93.000000</td>\n",
       "      <td>7.000000</td>\n",
       "      <td>133.000000</td>\n",
       "      <td>614.000000</td>\n",
       "      <td>5.340988e+06</td>\n",
       "      <td>8.593500e+03</td>\n",
       "      <td>1411.000000</td>\n",
       "      <td>0.000000</td>\n",
       "      <td>65.000000</td>\n",
       "      <td>6.000000e+06</td>\n",
       "      <td>1999.000000</td>\n",
       "      <td>281.000000</td>\n",
       "      <td>5.800000</td>\n",
       "      <td>1.850000</td>\n",
       "      <td>0.000000</td>\n",
       "    </tr>\n",
       "    <tr>\n",
       "      <th>50%</th>\n",
       "      <td>110.000000</td>\n",
       "      <td>103.000000</td>\n",
       "      <td>49.000000</td>\n",
       "      <td>371.500000</td>\n",
       "      <td>988.000000</td>\n",
       "      <td>2.551750e+07</td>\n",
       "      <td>3.435900e+04</td>\n",
       "      <td>3090.000000</td>\n",
       "      <td>1.000000</td>\n",
       "      <td>156.000000</td>\n",
       "      <td>2.000000e+07</td>\n",
       "      <td>2005.000000</td>\n",
       "      <td>595.000000</td>\n",
       "      <td>6.600000</td>\n",
       "      <td>2.350000</td>\n",
       "      <td>166.000000</td>\n",
       "    </tr>\n",
       "    <tr>\n",
       "      <th>75%</th>\n",
       "      <td>195.000000</td>\n",
       "      <td>118.000000</td>\n",
       "      <td>194.500000</td>\n",
       "      <td>636.000000</td>\n",
       "      <td>11000.000000</td>\n",
       "      <td>6.230944e+07</td>\n",
       "      <td>9.630900e+04</td>\n",
       "      <td>13756.500000</td>\n",
       "      <td>2.000000</td>\n",
       "      <td>326.000000</td>\n",
       "      <td>4.500000e+07</td>\n",
       "      <td>2011.000000</td>\n",
       "      <td>918.000000</td>\n",
       "      <td>7.200000</td>\n",
       "      <td>2.350000</td>\n",
       "      <td>3000.000000</td>\n",
       "    </tr>\n",
       "    <tr>\n",
       "      <th>max</th>\n",
       "      <td>813.000000</td>\n",
       "      <td>511.000000</td>\n",
       "      <td>23000.000000</td>\n",
       "      <td>23000.000000</td>\n",
       "      <td>640000.000000</td>\n",
       "      <td>7.605058e+08</td>\n",
       "      <td>1.689764e+06</td>\n",
       "      <td>656730.000000</td>\n",
       "      <td>43.000000</td>\n",
       "      <td>5060.000000</td>\n",
       "      <td>1.221550e+10</td>\n",
       "      <td>2016.000000</td>\n",
       "      <td>137000.000000</td>\n",
       "      <td>9.500000</td>\n",
       "      <td>16.000000</td>\n",
       "      <td>349000.000000</td>\n",
       "    </tr>\n",
       "  </tbody>\n",
       "</table>\n",
       "</div>"
      ],
      "text/plain": [
       "       num_critic_for_reviews     duration  director_facebook_likes  \\\n",
       "count             4993.000000  5028.000000              4939.000000   \n",
       "mean               140.194272   107.201074               686.509212   \n",
       "std                121.601675    25.197441              2813.328607   \n",
       "min                  1.000000     7.000000                 0.000000   \n",
       "25%                 50.000000    93.000000                 7.000000   \n",
       "50%                110.000000   103.000000                49.000000   \n",
       "75%                195.000000   118.000000               194.500000   \n",
       "max                813.000000   511.000000             23000.000000   \n",
       "\n",
       "       actor_3_facebook_likes  actor_1_facebook_likes         gross  \\\n",
       "count             5020.000000             5036.000000  4.159000e+03   \n",
       "mean               645.009761             6560.047061  4.846841e+07   \n",
       "std               1665.041728            15020.759120  6.845299e+07   \n",
       "min                  0.000000                0.000000  1.620000e+02   \n",
       "25%                133.000000              614.000000  5.340988e+06   \n",
       "50%                371.500000              988.000000  2.551750e+07   \n",
       "75%                636.000000            11000.000000  6.230944e+07   \n",
       "max              23000.000000           640000.000000  7.605058e+08   \n",
       "\n",
       "       num_voted_users  cast_total_facebook_likes  facenumber_in_poster  \\\n",
       "count     5.043000e+03                5043.000000           5030.000000   \n",
       "mean      8.366816e+04                9699.063851              1.371173   \n",
       "std       1.384853e+05               18163.799124              2.013576   \n",
       "min       5.000000e+00                   0.000000              0.000000   \n",
       "25%       8.593500e+03                1411.000000              0.000000   \n",
       "50%       3.435900e+04                3090.000000              1.000000   \n",
       "75%       9.630900e+04               13756.500000              2.000000   \n",
       "max       1.689764e+06              656730.000000             43.000000   \n",
       "\n",
       "       num_user_for_reviews        budget   title_year  \\\n",
       "count           5022.000000  4.551000e+03  4935.000000   \n",
       "mean             272.770808  3.975262e+07  2002.470517   \n",
       "std              377.982886  2.061149e+08    12.474599   \n",
       "min                1.000000  2.180000e+02  1916.000000   \n",
       "25%               65.000000  6.000000e+06  1999.000000   \n",
       "50%              156.000000  2.000000e+07  2005.000000   \n",
       "75%              326.000000  4.500000e+07  2011.000000   \n",
       "max             5060.000000  1.221550e+10  2016.000000   \n",
       "\n",
       "       actor_2_facebook_likes   imdb_score  aspect_ratio  movie_facebook_likes  \n",
       "count             5030.000000  5043.000000   4714.000000           5043.000000  \n",
       "mean              1651.754473     6.442138      2.220403           7525.964505  \n",
       "std               4042.438863     1.125116      1.385113          19320.445110  \n",
       "min                  0.000000     1.600000      1.180000              0.000000  \n",
       "25%                281.000000     5.800000      1.850000              0.000000  \n",
       "50%                595.000000     6.600000      2.350000            166.000000  \n",
       "75%                918.000000     7.200000      2.350000           3000.000000  \n",
       "max             137000.000000     9.500000     16.000000         349000.000000  "
      ]
     },
     "execution_count": 8,
     "metadata": {},
     "output_type": "execute_result"
    }
   ],
   "source": [
    "data.describe()"
   ]
  },
  {
   "cell_type": "raw",
   "metadata": {},
   "source": [
    "Some key point from this table\n",
    "Avg movie duration is 107.2 minuts\n",
    "avg imdb is 6.64\n",
    "avg number of users revies is 272"
   ]
  },
  {
   "cell_type": "code",
   "execution_count": 9,
   "metadata": {
    "scrolled": true
   },
   "outputs": [
    {
     "name": "stdout",
     "output_type": "stream",
     "text": [
      "<class 'pandas.core.frame.DataFrame'>\n",
      "RangeIndex: 5043 entries, 0 to 5042\n",
      "Data columns (total 28 columns):\n",
      "color                        5024 non-null object\n",
      "director_name                4939 non-null object\n",
      "num_critic_for_reviews       4993 non-null float64\n",
      "duration                     5028 non-null float64\n",
      "director_facebook_likes      4939 non-null float64\n",
      "actor_3_facebook_likes       5020 non-null float64\n",
      "actor_2_name                 5030 non-null object\n",
      "actor_1_facebook_likes       5036 non-null float64\n",
      "gross                        4159 non-null float64\n",
      "genres                       5043 non-null object\n",
      "actor_1_name                 5036 non-null object\n",
      "movie_title                  5043 non-null object\n",
      "num_voted_users              5043 non-null int64\n",
      "cast_total_facebook_likes    5043 non-null int64\n",
      "actor_3_name                 5020 non-null object\n",
      "facenumber_in_poster         5030 non-null float64\n",
      "plot_keywords                4890 non-null object\n",
      "movie_imdb_link              5043 non-null object\n",
      "num_user_for_reviews         5022 non-null float64\n",
      "language                     5031 non-null object\n",
      "country                      5038 non-null object\n",
      "content_rating               4740 non-null object\n",
      "budget                       4551 non-null float64\n",
      "title_year                   4935 non-null float64\n",
      "actor_2_facebook_likes       5030 non-null float64\n",
      "imdb_score                   5043 non-null float64\n",
      "aspect_ratio                 4714 non-null float64\n",
      "movie_facebook_likes         5043 non-null int64\n",
      "dtypes: float64(13), int64(3), object(12)\n",
      "memory usage: 1.1+ MB\n"
     ]
    }
   ],
   "source": [
    "data.info()  # check what kind of data are"
   ]
  },
  {
   "cell_type": "raw",
   "metadata": {},
   "source": [
    "so we have int, float , string all type of mixtures."
   ]
  },
  {
   "cell_type": "code",
   "execution_count": 10,
   "metadata": {
    "collapsed": true
   },
   "outputs": [],
   "source": [
    " # check data has any values null/nan or not\n",
    "    "
   ]
  },
  {
   "cell_type": "code",
   "execution_count": 11,
   "metadata": {},
   "outputs": [
    {
     "data": {
      "text/plain": [
       "True"
      ]
     },
     "execution_count": 11,
     "metadata": {},
     "output_type": "execute_result"
    }
   ],
   "source": [
    "data.isnull().values.any()"
   ]
  },
  {
   "cell_type": "raw",
   "metadata": {},
   "source": [
    "so we have null values also. "
   ]
  },
  {
   "cell_type": "code",
   "execution_count": 12,
   "metadata": {},
   "outputs": [
    {
     "data": {
      "text/plain": [
       "color                         19\n",
       "director_name                104\n",
       "num_critic_for_reviews        50\n",
       "duration                      15\n",
       "director_facebook_likes      104\n",
       "actor_3_facebook_likes        23\n",
       "actor_2_name                  13\n",
       "actor_1_facebook_likes         7\n",
       "gross                        884\n",
       "genres                         0\n",
       "actor_1_name                   7\n",
       "movie_title                    0\n",
       "num_voted_users                0\n",
       "cast_total_facebook_likes      0\n",
       "actor_3_name                  23\n",
       "facenumber_in_poster          13\n",
       "plot_keywords                153\n",
       "movie_imdb_link                0\n",
       "num_user_for_reviews          21\n",
       "language                      12\n",
       "country                        5\n",
       "content_rating               303\n",
       "budget                       492\n",
       "title_year                   108\n",
       "actor_2_facebook_likes        13\n",
       "imdb_score                     0\n",
       "aspect_ratio                 329\n",
       "movie_facebook_likes           0\n",
       "dtype: int64"
      ]
     },
     "execution_count": 12,
     "metadata": {},
     "output_type": "execute_result"
    }
   ],
   "source": [
    "#Check how many values are null in each column\n",
    "data[data.columns[:]].isnull().sum()"
   ]
  },
  {
   "cell_type": "code",
   "execution_count": 13,
   "metadata": {
    "scrolled": true
   },
   "outputs": [
    {
     "name": "stdout",
     "output_type": "stream",
     "text": [
      "['color', 'director_name', 'num_critic_for_reviews', 'duration', 'director_facebook_likes', 'actor_3_facebook_likes', 'actor_2_name', 'actor_1_facebook_likes', 'gross', 'genres', 'actor_1_name', 'movie_title', 'num_voted_users', 'cast_total_facebook_likes', 'actor_3_name', 'facenumber_in_poster', 'plot_keywords', 'movie_imdb_link', 'num_user_for_reviews', 'language', 'country', 'content_rating', 'budget', 'title_year', 'actor_2_facebook_likes', 'imdb_score', 'aspect_ratio', 'movie_facebook_likes']\n"
     ]
    }
   ],
   "source": [
    "col_name = data.columns.tolist()\n",
    "print col_name"
   ]
  },
  {
   "cell_type": "code",
   "execution_count": 14,
   "metadata": {
    "scrolled": true
   },
   "outputs": [
    {
     "data": {
      "text/plain": [
       "747"
      ]
     },
     "execution_count": 14,
     "metadata": {},
     "output_type": "execute_result"
    }
   ],
   "source": [
    "data[data['imdb_score']>7.5].shape[0]"
   ]
  },
  {
   "cell_type": "raw",
   "metadata": {},
   "source": [
    "747 out of 5043 movies are having more than 7.5 imdb rating.\n",
    "Genrally people watch this king of rating movies"
   ]
  },
  {
   "cell_type": "code",
   "execution_count": 35,
   "metadata": {},
   "outputs": [
    {
     "data": {
      "text/plain": [
       "<matplotlib.axes._subplots.AxesSubplot at 0x7fc095aa4690>"
      ]
     },
     "execution_count": 35,
     "metadata": {},
     "output_type": "execute_result"
    },
    {
     "data": {
      "image/png": "[encoded data removed]",
      "text/plain": [
       "<matplotlib.figure.Figure at 0x7fc0959fbd50>"
      ]
     },
     "metadata": {},
     "output_type": "display_data"
    }
   ],
   "source": [
    "data_groupby_gross = data.groupby(['imdb_score'])['gross'].count()\n",
    "data_groupby_gross.plot()"
   ]
  },
  {
   "cell_type": "code",
   "execution_count": 61,
   "metadata": {
    "collapsed": true
   },
   "outputs": [],
   "source": [
    "#def pareto_frontier(data[data['imdb_score']], data[data['gross']])\n",
    "\n",
    "score_list = data.imdb_score.tolist()\n",
    "num_vot_list = data.num_voted_users.tolist()\n",
    "\n",
    "p_front = pareto_frontier(score_list, num_vot_list, maxX = False, maxY = True)"
   ]
  },
  {
   "cell_type": "code",
   "execution_count": 63,
   "metadata": {},
   "outputs": [
    {
     "data": {
      "text/plain": [
       "[74351,\n",
       " 74945,\n",
       " 89687,\n",
       " 189855,\n",
       " 220020,\n",
       " 220758,\n",
       " 348007,\n",
       " 348010,\n",
       " 383056,\n",
       " 383071,\n",
       " 534658,\n",
       " 536314,\n",
       " 548573,\n",
       " 557489,\n",
       " 701607,\n",
       " 793059,\n",
       " 886204,\n",
       " 995415,\n",
       " 995415,\n",
       " 1144337,\n",
       " 1217752,\n",
       " 1238746,\n",
       " 1251222,\n",
       " 1347461,\n",
       " 1468200,\n",
       " 1676169,\n",
       " 1689764]"
      ]
     },
     "execution_count": 63,
     "metadata": {},
     "output_type": "execute_result"
    }
   ],
   "source": []
  },
  {
   "cell_type": "code",
   "execution_count": null,
   "metadata": {},
   "outputs": [],
   "source": [
    "### Core Analysis Visulaized\n"
   ]
  },
  {
   "cell_type": "code",
   "execution_count": 96,
   "metadata": {},
   "outputs": [
    {
     "data": {
      "text/plain": [
       "[<matplotlib.lines.Line2D at 0x7fc091a370d0>]"
      ]
     },
     "execution_count": 96,
     "metadata": {},
     "output_type": "execute_result"
    },
    {
     "data": {
      "image/png": "[encoded data removed]",
      "text/plain": [
       "<matplotlib.figure.Figure at 0x7fc091b6d490>"
      ]
     },
     "metadata": {},
     "output_type": "display_data"
    }
   ],
   "source": [
    "#Plotting the pareto frontier data to get top tier objects based on imdb score and number of user votes.\n",
    "#Because higher the number of votes, higer is the credibilty of the imdb score\n",
    "#x axis is imdb score and y axis is the number of votes\n",
    "\n",
    "import matplotlib.pyplot as plt   \n",
    "#Xs, Ys = pareto_frontier(score_list, num_vot_list)\n",
    "# Find lowest values for cost and highest for savings\n",
    "p_front = pareto_frontier(score_list, num_vot_list, maxX = False, maxY = True)\n",
    "# Plot a scatter graph of all results\n",
    "plt.scatter(score_list, num_vot_list)\n",
    "# Then plot the Pareto frontier on top\n",
    "plt.plot(p_front[0], p_front[1])"
   ]
  },
  {
   "cell_type": "code",
   "execution_count": null,
   "metadata": {},
   "outputs": [],
   "source": [
    "#We can visualize that the datapoint on the top of the pareto frontier is one \n",
    "#that is most popular based on rating and number of votes.\n",
    "\n",
    "#We can also see that the datapont in the bottom is one that has \n",
    "#most votes but is rated poorly - there is a case to make here that its a movie that more people have watched but disliked\n",
    "#hence, so it is least popular. "
   ]
  },
  {
   "cell_type": "code",
   "execution_count": 90,
   "metadata": {},
   "outputs": [
    {
     "data": {
      "text/plain": [
       "[<matplotlib.lines.Line2D at 0x7fc091cf65d0>]"
      ]
     },
     "execution_count": 90,
     "metadata": {},
     "output_type": "execute_result"
    },
    {
     "data": {
      "image/png": "[encoded data removed]",
      "text/plain": [
       "<matplotlib.figure.Figure at 0x7fc091d05fd0>"
      ]
     },
     "metadata": {},
     "output_type": "display_data"
    }
   ],
   "source": [
    "import matplotlib.pyplot as plt   \n",
    "#Xs, Ys = pareto_frontier(score_list, num_vot_list)\n",
    "# Find lowest values for cost and highest for savings\n",
    "p_front = pareto_frontier(num_vot_list, score_list , maxX = True, maxY = True)\n",
    "# Plot a scatter graph of all results\n",
    "#plt.scatter(score_list, num_vot_list)\n",
    "plt.scatter(num_vot_list, score_list)\n",
    "# Then plot the Pareto frontier on top\n",
    "plt.plot(p_front[0], p_front[1])"
   ]
  },
  {
   "cell_type": "code",
   "execution_count": 87,
   "metadata": {},
   "outputs": [
    {
     "data": {
      "text/plain": [
       "[10, 1689764]"
      ]
     },
     "execution_count": 87,
     "metadata": {},
     "output_type": "execute_result"
    }
   ],
   "source": [
    "p_front[1]"
   ]
  },
  {
   "cell_type": "code",
   "execution_count": 78,
   "metadata": {},
   "outputs": [
    {
     "name": "stdout",
     "output_type": "stream",
     "text": [
      "(1.6, 74351)\n",
      "(1.9, 74945)\n",
      "(2.3, 89687)\n",
      "(3.7, 189855)\n",
      "(4.1, 220020)\n",
      "(4.6, 220758)\n",
      "(5.2, 348007)\n",
      "(5.2, 348010)\n",
      "(6.2, 383056)\n",
      "(6.2, 383071)\n",
      "(6.5, 534658)\n",
      "(7.0, 536314)\n",
      "(7.2, 548573)\n",
      "(7.2, 557489)\n",
      "(7.3, 701607)\n",
      "(7.7, 793059)\n",
      "(7.9, 886204)\n",
      "(8.1, 995415)\n",
      "(8.1, 995415)\n",
      "(8.5, 1144337)\n",
      "(8.7, 1217752)\n",
      "(8.8, 1238746)\n",
      "(8.8, 1251222)\n",
      "(8.8, 1347461)\n",
      "(8.8, 1468200)\n",
      "(9.0, 1676169)\n",
      "(9.3, 1689764)\n"
     ]
    }
   ],
   "source": [
    "a = []\n",
    "list1 = []\n",
    "for x, y in zip(p_front[0], p_front[1]):\n",
    "    list1 = x,y\n",
    "    print list1"
   ]
  },
  {
   "cell_type": "code",
   "execution_count": 79,
   "metadata": {},
   "outputs": [
    {
     "data": {
      "text/plain": [
       "[<matplotlib.lines.Line2D at 0x7fc0922c9490>]"
      ]
     },
     "execution_count": 79,
     "metadata": {},
     "output_type": "execute_result"
    },
    {
     "data": {
      "image/png": "[encoded data removed]",
      "text/plain": [
       "<matplotlib.figure.Figure at 0x7fc091e76790>"
      ]
     },
     "metadata": {},
     "output_type": "display_data"
    }
   ],
   "source": [
    "plt.plot(list1)"
   ]
  },
  {
   "cell_type": "code",
   "execution_count": 53,
   "metadata": {
    "collapsed": true
   },
   "outputs": [],
   "source": []
  },
  {
   "cell_type": "code",
   "execution_count": 15,
   "metadata": {
    "scrolled": true
   },
   "outputs": [
    {
     "data": {
      "text/plain": [
       "<matplotlib.axes._subplots.AxesSubplot at 0x7fc0961f2690>"
      ]
     },
     "execution_count": 15,
     "metadata": {},
     "output_type": "execute_result"
    },
    {
     "data": {
      "image/png": "[encoded data removed]",
      "text/plain": [
       "<matplotlib.figure.Figure at 0x7fc0961ce810>"
      ]
     },
     "metadata": {},
     "output_type": "display_data"
    }
   ],
   "source": [
    "data_groupby_ratings = data.groupby(['imdb_score'])['movie_title'].count()\n",
    "data_groupby_ratings.plot()"
   ]
  },
  {
   "cell_type": "code",
   "execution_count": 52,
   "metadata": {
    "collapsed": true
   },
   "outputs": [],
   "source": []
  },
  {
   "cell_type": "raw",
   "metadata": {},
   "source": [
    "we can see more than 200  movies have rating of around 6.5"
   ]
  },
  {
   "cell_type": "code",
   "execution_count": 16,
   "metadata": {},
   "outputs": [
    {
     "data": {
      "text/plain": [
       "<matplotlib.axes._subplots.AxesSubplot at 0x7fc095e83a10>"
      ]
     },
     "execution_count": 16,
     "metadata": {},
     "output_type": "execute_result"
    },
    {
     "data": {
      "image/png": "[encoded data removed]",
      "text/plain": [
       "<matplotlib.figure.Figure at 0x7fc0961e1b10>"
      ]
     },
     "metadata": {},
     "output_type": "display_data"
    }
   ],
   "source": [
    "data_groupby_duration = data.groupby(['duration'])['movie_title'].count()\n",
    "data_groupby_duration.plot()"
   ]
  },
  {
   "cell_type": "code",
   "execution_count": 17,
   "metadata": {},
   "outputs": [
    {
     "data": {
      "text/plain": [
       "2179"
      ]
     },
     "execution_count": 17,
     "metadata": {},
     "output_type": "execute_result"
    }
   ],
   "source": [
    "data[data['duration'] <= 100].shape[0]"
   ]
  },
  {
   "cell_type": "code",
   "execution_count": 18,
   "metadata": {},
   "outputs": [
    {
     "data": {
      "text/plain": [
       "68"
      ]
     },
     "execution_count": 18,
     "metadata": {},
     "output_type": "execute_result"
    }
   ],
   "source": [
    "data[data['duration'] >= 180].shape[0]"
   ]
  },
  {
   "cell_type": "raw",
   "metadata": {
    "collapsed": true
   },
   "source": [
    "See 68 movies have time duration more than equal to 3 hr.\n",
    "average movie time duration is 107 min"
   ]
  },
  {
   "cell_type": "code",
   "execution_count": 19,
   "metadata": {},
   "outputs": [
    {
     "data": {
      "text/plain": [
       "array(['English', nan, 'Japanese', 'French', 'Mandarin', 'Aboriginal',\n",
       "       'Spanish', 'Filipino', 'Hindi', 'Russian', 'Maya', 'Kazakh',\n",
       "       'Telugu', 'Cantonese', 'Icelandic', 'German', 'Aramaic', 'Italian',\n",
       "       'Dutch', 'Dari', 'Hebrew', 'Chinese', 'Mongolian', 'Swedish',\n",
       "       'Korean', 'Thai', 'Polish', 'Bosnian', 'None', 'Hungarian',\n",
       "       'Portuguese', 'Danish', 'Arabic', 'Norwegian', 'Czech', 'Kannada',\n",
       "       'Zulu', 'Panjabi', 'Tamil', 'Dzongkha', 'Vietnamese', 'Indonesian',\n",
       "       'Urdu', 'Romanian', 'Persian', 'Slovenian', 'Greek', 'Swahili'], dtype=object)"
      ]
     },
     "execution_count": 19,
     "metadata": {},
     "output_type": "execute_result"
    }
   ],
   "source": [
    "data['language'].unique()"
   ]
  },
  {
   "cell_type": "code",
   "execution_count": 113,
   "metadata": {},
   "outputs": [
    {
     "data": {
      "text/plain": [
       "<matplotlib.axes.AxesSubplot at 0x7fcafa0791d0>"
      ]
     },
     "execution_count": 113,
     "metadata": {},
     "output_type": "execute_result"
    },
    {
     "data": {
      "image/png": "[encoded data removed]",
      "text/plain": [
       "<matplotlib.figure.Figure at 0x7fcafa5e1c90>"
      ]
     },
     "metadata": {},
     "output_type": "display_data"
    }
   ],
   "source": [
    "sns.set(style=\"darkgrid\")\n",
    "sns.countplot(x=\"color\", data = data)"
   ]
  },
  {
   "cell_type": "code",
   "execution_count": 25,
   "metadata": {},
   "outputs": [
    {
     "data": {
      "text/plain": [
       "<matplotlib.axes._subplots.AxesSubplot at 0x7fc095cc6b50>"
      ]
     },
     "execution_count": 25,
     "metadata": {},
     "output_type": "execute_result"
    },
    {
     "data": {
      "image/png": "[encoded data removed]",
      "text/plain": [
       "<matplotlib.figure.Figure at 0x7fc095e06450>"
      ]
     },
     "metadata": {},
     "output_type": "display_data"
    }
   ],
   "source": [
    "# plot title year vs gross\n",
    "data_groupby_gross = data.groupby(['title_year'])['gross'].count()\n",
    "data_groupby_gross.plot()"
   ]
  },
  {
   "cell_type": "code",
   "execution_count": 26,
   "metadata": {},
   "outputs": [
    {
     "data": {
      "text/plain": [
       "<matplotlib.axes._subplots.AxesSubplot at 0x7fc095c89650>"
      ]
     },
     "execution_count": 26,
     "metadata": {},
     "output_type": "execute_result"
    },
    {
     "data": {
      "image/png": "[encoded data removed]",
      "text/plain": [
       "<matplotlib.figure.Figure at 0x7fc095c61890>"
      ]
     },
     "metadata": {},
     "output_type": "display_data"
    }
   ],
   "source": [
    "#ploting buget vs title_year\n",
    "data_groupby_gross = data.groupby(['title_year'])['budget'].count()\n",
    "data_groupby_gross.plot()"
   ]
  },
  {
   "cell_type": "code",
   "execution_count": 27,
   "metadata": {},
   "outputs": [
    {
     "data": {
      "text/plain": [
       "4704"
      ]
     },
     "execution_count": 27,
     "metadata": {},
     "output_type": "execute_result"
    }
   ],
   "source": [
    "data[data['language'] == 'English'].shape[0] # number of english movies"
   ]
  },
  {
   "cell_type": "code",
   "execution_count": 117,
   "metadata": {},
   "outputs": [
    {
     "data": {
      "image/png": "[encoded data removed]",
      "text/plain": [
       "<matplotlib.figure.Figure at 0x7fcaf9a7a490>"
      ]
     },
     "metadata": {},
     "output_type": "display_data"
    }
   ],
   "source": [
    "sns.set(style=\"darkgrid\")\n",
    "plt.figure(figsize = (12, 6))\n",
    "sns.countplot(x=\"language\", data = data)\n",
    "ax = plt.xticks(rotation=90)"
   ]
  },
  {
   "cell_type": "markdown",
   "metadata": {},
   "source": [
    "# top 20 imdb rating movies "
   ]
  },
  {
   "cell_type": "code",
   "execution_count": 28,
   "metadata": {},
   "outputs": [
    {
     "name": "stderr",
     "output_type": "stream",
     "text": [
      "/home/akkhilaysh/Enthought/Canopy_64bit/User/lib/python2.7/site-packages/ipykernel/__main__.py:1: FutureWarning: sort(columns=....) is deprecated, use sort_values(by=.....)\n",
      "  if __name__ == '__main__':\n"
     ]
    },
    {
     "data": {
      "text/html": [
       "<div>\n",
       "<table border=\"1\" class=\"dataframe\">\n",
       "  <thead>\n",
       "    <tr style=\"text-align: right;\">\n",
       "      <th></th>\n",
       "      <th>movie_title</th>\n",
       "      <th>imdb_score</th>\n",
       "      <th>title_year</th>\n",
       "      <th>language</th>\n",
       "      <th>country</th>\n",
       "      <th>budget</th>\n",
       "      <th>director_name</th>\n",
       "      <th>duration</th>\n",
       "      <th>gross</th>\n",
       "    </tr>\n",
       "  </thead>\n",
       "  <tbody>\n",
       "    <tr>\n",
       "      <th>2765</th>\n",
       "      <td>Towering Inferno</td>\n",
       "      <td>9.5</td>\n",
       "      <td>NaN</td>\n",
       "      <td>English</td>\n",
       "      <td>Canada</td>\n",
       "      <td>NaN</td>\n",
       "      <td>John Blanchard</td>\n",
       "      <td>65.0</td>\n",
       "      <td>NaN</td>\n",
       "    </tr>\n",
       "    <tr>\n",
       "      <th>1937</th>\n",
       "      <td>The Shawshank Redemption</td>\n",
       "      <td>9.3</td>\n",
       "      <td>1994.0</td>\n",
       "      <td>English</td>\n",
       "      <td>USA</td>\n",
       "      <td>25000000.0</td>\n",
       "      <td>Frank Darabont</td>\n",
       "      <td>142.0</td>\n",
       "      <td>28341469.0</td>\n",
       "    </tr>\n",
       "    <tr>\n",
       "      <th>3466</th>\n",
       "      <td>The Godfather</td>\n",
       "      <td>9.2</td>\n",
       "      <td>1972.0</td>\n",
       "      <td>English</td>\n",
       "      <td>USA</td>\n",
       "      <td>6000000.0</td>\n",
       "      <td>Francis Ford Coppola</td>\n",
       "      <td>175.0</td>\n",
       "      <td>134821952.0</td>\n",
       "    </tr>\n",
       "    <tr>\n",
       "      <th>4409</th>\n",
       "      <td>Kickboxer: Vengeance</td>\n",
       "      <td>9.1</td>\n",
       "      <td>2016.0</td>\n",
       "      <td>NaN</td>\n",
       "      <td>USA</td>\n",
       "      <td>17000000.0</td>\n",
       "      <td>John Stockwell</td>\n",
       "      <td>90.0</td>\n",
       "      <td>NaN</td>\n",
       "    </tr>\n",
       "    <tr>\n",
       "      <th>2824</th>\n",
       "      <td>Dekalog</td>\n",
       "      <td>9.1</td>\n",
       "      <td>NaN</td>\n",
       "      <td>Polish</td>\n",
       "      <td>Poland</td>\n",
       "      <td>NaN</td>\n",
       "      <td>NaN</td>\n",
       "      <td>55.0</td>\n",
       "      <td>447093.0</td>\n",
       "    </tr>\n",
       "    <tr>\n",
       "      <th>3207</th>\n",
       "      <td>Dekalog</td>\n",
       "      <td>9.1</td>\n",
       "      <td>NaN</td>\n",
       "      <td>Polish</td>\n",
       "      <td>Poland</td>\n",
       "      <td>NaN</td>\n",
       "      <td>NaN</td>\n",
       "      <td>55.0</td>\n",
       "      <td>447093.0</td>\n",
       "    </tr>\n",
       "    <tr>\n",
       "      <th>66</th>\n",
       "      <td>The Dark Knight</td>\n",
       "      <td>9.0</td>\n",
       "      <td>2008.0</td>\n",
       "      <td>English</td>\n",
       "      <td>USA</td>\n",
       "      <td>185000000.0</td>\n",
       "      <td>Christopher Nolan</td>\n",
       "      <td>152.0</td>\n",
       "      <td>533316061.0</td>\n",
       "    </tr>\n",
       "    <tr>\n",
       "      <th>2837</th>\n",
       "      <td>The Godfather: Part II</td>\n",
       "      <td>9.0</td>\n",
       "      <td>1974.0</td>\n",
       "      <td>English</td>\n",
       "      <td>USA</td>\n",
       "      <td>13000000.0</td>\n",
       "      <td>Francis Ford Coppola</td>\n",
       "      <td>220.0</td>\n",
       "      <td>57300000.0</td>\n",
       "    </tr>\n",
       "    <tr>\n",
       "      <th>3481</th>\n",
       "      <td>Fargo</td>\n",
       "      <td>9.0</td>\n",
       "      <td>NaN</td>\n",
       "      <td>English</td>\n",
       "      <td>USA</td>\n",
       "      <td>NaN</td>\n",
       "      <td>NaN</td>\n",
       "      <td>53.0</td>\n",
       "      <td>NaN</td>\n",
       "    </tr>\n",
       "    <tr>\n",
       "      <th>339</th>\n",
       "      <td>The Lord of the Rings: The Return of the King</td>\n",
       "      <td>8.9</td>\n",
       "      <td>2003.0</td>\n",
       "      <td>English</td>\n",
       "      <td>USA</td>\n",
       "      <td>94000000.0</td>\n",
       "      <td>Peter Jackson</td>\n",
       "      <td>192.0</td>\n",
       "      <td>377019252.0</td>\n",
       "    </tr>\n",
       "    <tr>\n",
       "      <th>4822</th>\n",
       "      <td>12 Angry Men</td>\n",
       "      <td>8.9</td>\n",
       "      <td>1957.0</td>\n",
       "      <td>English</td>\n",
       "      <td>USA</td>\n",
       "      <td>350000.0</td>\n",
       "      <td>Sidney Lumet</td>\n",
       "      <td>96.0</td>\n",
       "      <td>NaN</td>\n",
       "    </tr>\n",
       "    <tr>\n",
       "      <th>4498</th>\n",
       "      <td>The Good, the Bad and the Ugly</td>\n",
       "      <td>8.9</td>\n",
       "      <td>1966.0</td>\n",
       "      <td>Italian</td>\n",
       "      <td>Italy</td>\n",
       "      <td>1200000.0</td>\n",
       "      <td>Sergio Leone</td>\n",
       "      <td>142.0</td>\n",
       "      <td>6100000.0</td>\n",
       "    </tr>\n",
       "    <tr>\n",
       "      <th>3355</th>\n",
       "      <td>Pulp Fiction</td>\n",
       "      <td>8.9</td>\n",
       "      <td>1994.0</td>\n",
       "      <td>English</td>\n",
       "      <td>USA</td>\n",
       "      <td>8000000.0</td>\n",
       "      <td>Quentin Tarantino</td>\n",
       "      <td>178.0</td>\n",
       "      <td>107930000.0</td>\n",
       "    </tr>\n",
       "    <tr>\n",
       "      <th>1874</th>\n",
       "      <td>Schindler's List</td>\n",
       "      <td>8.9</td>\n",
       "      <td>1993.0</td>\n",
       "      <td>English</td>\n",
       "      <td>USA</td>\n",
       "      <td>22000000.0</td>\n",
       "      <td>Steven Spielberg</td>\n",
       "      <td>185.0</td>\n",
       "      <td>96067179.0</td>\n",
       "    </tr>\n",
       "    <tr>\n",
       "      <th>683</th>\n",
       "      <td>Fight Club</td>\n",
       "      <td>8.8</td>\n",
       "      <td>1999.0</td>\n",
       "      <td>English</td>\n",
       "      <td>USA</td>\n",
       "      <td>63000000.0</td>\n",
       "      <td>David Fincher</td>\n",
       "      <td>151.0</td>\n",
       "      <td>37023395.0</td>\n",
       "    </tr>\n",
       "    <tr>\n",
       "      <th>836</th>\n",
       "      <td>Forrest Gump</td>\n",
       "      <td>8.8</td>\n",
       "      <td>1994.0</td>\n",
       "      <td>English</td>\n",
       "      <td>USA</td>\n",
       "      <td>55000000.0</td>\n",
       "      <td>Robert Zemeckis</td>\n",
       "      <td>142.0</td>\n",
       "      <td>329691196.0</td>\n",
       "    </tr>\n",
       "    <tr>\n",
       "      <th>270</th>\n",
       "      <td>The Lord of the Rings: The Fellowship of the R...</td>\n",
       "      <td>8.8</td>\n",
       "      <td>2001.0</td>\n",
       "      <td>English</td>\n",
       "      <td>New Zealand</td>\n",
       "      <td>93000000.0</td>\n",
       "      <td>Peter Jackson</td>\n",
       "      <td>171.0</td>\n",
       "      <td>313837577.0</td>\n",
       "    </tr>\n",
       "    <tr>\n",
       "      <th>2051</th>\n",
       "      <td>Star Wars: Episode V - The Empire Strikes Back</td>\n",
       "      <td>8.8</td>\n",
       "      <td>1980.0</td>\n",
       "      <td>English</td>\n",
       "      <td>USA</td>\n",
       "      <td>18000000.0</td>\n",
       "      <td>Irvin Kershner</td>\n",
       "      <td>127.0</td>\n",
       "      <td>290158751.0</td>\n",
       "    </tr>\n",
       "    <tr>\n",
       "      <th>97</th>\n",
       "      <td>Inception</td>\n",
       "      <td>8.8</td>\n",
       "      <td>2010.0</td>\n",
       "      <td>English</td>\n",
       "      <td>USA</td>\n",
       "      <td>160000000.0</td>\n",
       "      <td>Christopher Nolan</td>\n",
       "      <td>148.0</td>\n",
       "      <td>292568851.0</td>\n",
       "    </tr>\n",
       "    <tr>\n",
       "      <th>1842</th>\n",
       "      <td>It's Always Sunny in Philadelphia</td>\n",
       "      <td>8.8</td>\n",
       "      <td>NaN</td>\n",
       "      <td>English</td>\n",
       "      <td>USA</td>\n",
       "      <td>NaN</td>\n",
       "      <td>NaN</td>\n",
       "      <td>22.0</td>\n",
       "      <td>NaN</td>\n",
       "    </tr>\n",
       "  </tbody>\n",
       "</table>\n",
       "</div>"
      ],
      "text/plain": [
       "                                            movie_title  imdb_score  \\\n",
       "2765                      Towering Inferno                      9.5   \n",
       "1937                          The Shawshank Redemption          9.3   \n",
       "3466                                     The Godfather          9.2   \n",
       "4409                              Kickboxer: Vengeance          9.1   \n",
       "2824                               Dekalog                      9.1   \n",
       "3207                               Dekalog                      9.1   \n",
       "66                                     The Dark Knight          9.0   \n",
       "2837                            The Godfather: Part II          9.0   \n",
       "3481                                 Fargo                      9.0   \n",
       "339      The Lord of the Rings: The Return of the King          8.9   \n",
       "4822                                      12 Angry Men          8.9   \n",
       "4498                    The Good, the Bad and the Ugly          8.9   \n",
       "3355                                      Pulp Fiction          8.9   \n",
       "1874                                  Schindler's List          8.9   \n",
       "683                                         Fight Club          8.8   \n",
       "836                                       Forrest Gump          8.8   \n",
       "270   The Lord of the Rings: The Fellowship of the R...         8.8   \n",
       "2051    Star Wars: Episode V - The Empire Strikes Back          8.8   \n",
       "97                                           Inception          8.8   \n",
       "1842     It's Always Sunny in Philadelphia                      8.8   \n",
       "\n",
       "      title_year language      country       budget         director_name  \\\n",
       "2765         NaN  English       Canada          NaN        John Blanchard   \n",
       "1937      1994.0  English          USA   25000000.0        Frank Darabont   \n",
       "3466      1972.0  English          USA    6000000.0  Francis Ford Coppola   \n",
       "4409      2016.0      NaN          USA   17000000.0        John Stockwell   \n",
       "2824         NaN   Polish       Poland          NaN                   NaN   \n",
       "3207         NaN   Polish       Poland          NaN                   NaN   \n",
       "66        2008.0  English          USA  185000000.0     Christopher Nolan   \n",
       "2837      1974.0  English          USA   13000000.0  Francis Ford Coppola   \n",
       "3481         NaN  English          USA          NaN                   NaN   \n",
       "339       2003.0  English          USA   94000000.0         Peter Jackson   \n",
       "4822      1957.0  English          USA     350000.0          Sidney Lumet   \n",
       "4498      1966.0  Italian        Italy    1200000.0          Sergio Leone   \n",
       "3355      1994.0  English          USA    8000000.0     Quentin Tarantino   \n",
       "1874      1993.0  English          USA   22000000.0      Steven Spielberg   \n",
       "683       1999.0  English          USA   63000000.0         David Fincher   \n",
       "836       1994.0  English          USA   55000000.0       Robert Zemeckis   \n",
       "270       2001.0  English  New Zealand   93000000.0         Peter Jackson   \n",
       "2051      1980.0  English          USA   18000000.0        Irvin Kershner   \n",
       "97        2010.0  English          USA  160000000.0     Christopher Nolan   \n",
       "1842         NaN  English          USA          NaN                   NaN   \n",
       "\n",
       "      duration        gross  \n",
       "2765      65.0          NaN  \n",
       "1937     142.0   28341469.0  \n",
       "3466     175.0  134821952.0  \n",
       "4409      90.0          NaN  \n",
       "2824      55.0     447093.0  \n",
       "3207      55.0     447093.0  \n",
       "66       152.0  533316061.0  \n",
       "2837     220.0   57300000.0  \n",
       "3481      53.0          NaN  \n",
       "339      192.0  377019252.0  \n",
       "4822      96.0          NaN  \n",
       "4498     142.0    6100000.0  \n",
       "3355     178.0  107930000.0  \n",
       "1874     185.0   96067179.0  \n",
       "683      151.0   37023395.0  \n",
       "836      142.0  329691196.0  \n",
       "270      171.0  313837577.0  \n",
       "2051     127.0  290158751.0  \n",
       "97       148.0  292568851.0  \n",
       "1842      22.0          NaN  "
      ]
     },
     "execution_count": 28,
     "metadata": {},
     "output_type": "execute_result"
    }
   ],
   "source": [
    "highest_imdb = data.sort('imdb_score', ascending = False)\n",
    "high = highest_imdb.loc[:,['movie_title', 'imdb_score','title_year', 'language', 'country', 'budget', 'director_name', 'duration', 'gross' ]]\n",
    "high.head(20)"
   ]
  },
  {
   "cell_type": "code",
   "execution_count": 29,
   "metadata": {},
   "outputs": [
    {
     "data": {
      "text/html": [
       "<div>\n",
       "<table border=\"1\" class=\"dataframe\">\n",
       "  <thead>\n",
       "    <tr style=\"text-align: right;\">\n",
       "      <th></th>\n",
       "      <th>movie_title</th>\n",
       "      <th>imdb_score</th>\n",
       "      <th>title_year</th>\n",
       "      <th>language</th>\n",
       "      <th>country</th>\n",
       "      <th>budget</th>\n",
       "      <th>director_name</th>\n",
       "      <th>duration</th>\n",
       "      <th>gross</th>\n",
       "    </tr>\n",
       "  </thead>\n",
       "  <tbody>\n",
       "    <tr>\n",
       "      <th>3870</th>\n",
       "      <td>Airlift</td>\n",
       "      <td>8.5</td>\n",
       "      <td>2016.0</td>\n",
       "      <td>Hindi</td>\n",
       "      <td>India</td>\n",
       "      <td>4400000.0</td>\n",
       "      <td>Raja Menon</td>\n",
       "      <td>130.0</td>\n",
       "      <td>NaN</td>\n",
       "    </tr>\n",
       "    <tr>\n",
       "      <th>3685</th>\n",
       "      <td>Rang De Basanti</td>\n",
       "      <td>8.4</td>\n",
       "      <td>2006.0</td>\n",
       "      <td>Hindi</td>\n",
       "      <td>India</td>\n",
       "      <td>NaN</td>\n",
       "      <td>Rakeysh Omprakash Mehra</td>\n",
       "      <td>157.0</td>\n",
       "      <td>2197331.0</td>\n",
       "    </tr>\n",
       "    <tr>\n",
       "      <th>4160</th>\n",
       "      <td>Lage Raho Munna Bhai</td>\n",
       "      <td>8.2</td>\n",
       "      <td>2006.0</td>\n",
       "      <td>Hindi</td>\n",
       "      <td>India</td>\n",
       "      <td>120000000.0</td>\n",
       "      <td>Rajkumar Hirani</td>\n",
       "      <td>144.0</td>\n",
       "      <td>NaN</td>\n",
       "    </tr>\n",
       "    <tr>\n",
       "      <th>3344</th>\n",
       "      <td>My Name Is Khan</td>\n",
       "      <td>8.0</td>\n",
       "      <td>2010.0</td>\n",
       "      <td>Hindi</td>\n",
       "      <td>India</td>\n",
       "      <td>12000000.0</td>\n",
       "      <td>Karan Johar</td>\n",
       "      <td>128.0</td>\n",
       "      <td>4018695.0</td>\n",
       "    </tr>\n",
       "    <tr>\n",
       "      <th>3510</th>\n",
       "      <td>Veer-Zaara</td>\n",
       "      <td>7.9</td>\n",
       "      <td>2004.0</td>\n",
       "      <td>Hindi</td>\n",
       "      <td>India</td>\n",
       "      <td>7000000.0</td>\n",
       "      <td>Yash Chopra</td>\n",
       "      <td>192.0</td>\n",
       "      <td>2921738.0</td>\n",
       "    </tr>\n",
       "  </tbody>\n",
       "</table>\n",
       "</div>"
      ],
      "text/plain": [
       "                movie_title  imdb_score  title_year language country  \\\n",
       "3870               Airlift          8.5      2016.0    Hindi   India   \n",
       "3685       Rang De Basanti          8.4      2006.0    Hindi   India   \n",
       "4160  Lage Raho Munna Bhai          8.2      2006.0    Hindi   India   \n",
       "3344       My Name Is Khan          8.0      2010.0    Hindi   India   \n",
       "3510            Veer-Zaara          7.9      2004.0    Hindi   India   \n",
       "\n",
       "           budget            director_name  duration      gross  \n",
       "3870    4400000.0               Raja Menon     130.0        NaN  \n",
       "3685          NaN  Rakeysh Omprakash Mehra     157.0  2197331.0  \n",
       "4160  120000000.0          Rajkumar Hirani     144.0        NaN  \n",
       "3344   12000000.0              Karan Johar     128.0  4018695.0  \n",
       "3510    7000000.0              Yash Chopra     192.0  2921738.0  "
      ]
     },
     "execution_count": 29,
     "metadata": {},
     "output_type": "execute_result"
    }
   ],
   "source": [
    "#indian top 5 rated movies\n",
    "hindi = high[high['language']== 'Hindi']\n",
    "hindi.head(5)"
   ]
  },
  {
   "cell_type": "code",
   "execution_count": 30,
   "metadata": {},
   "outputs": [
    {
     "data": {
      "text/html": [
       "<div>\n",
       "<table border=\"1\" class=\"dataframe\">\n",
       "  <thead>\n",
       "    <tr style=\"text-align: right;\">\n",
       "      <th></th>\n",
       "      <th>num_critic_for_reviews</th>\n",
       "      <th>duration</th>\n",
       "      <th>director_facebook_likes</th>\n",
       "      <th>actor_3_facebook_likes</th>\n",
       "      <th>actor_1_facebook_likes</th>\n",
       "      <th>gross</th>\n",
       "      <th>num_voted_users</th>\n",
       "      <th>cast_total_facebook_likes</th>\n",
       "      <th>facenumber_in_poster</th>\n",
       "      <th>num_user_for_reviews</th>\n",
       "      <th>budget</th>\n",
       "      <th>title_year</th>\n",
       "      <th>actor_2_facebook_likes</th>\n",
       "      <th>imdb_score</th>\n",
       "      <th>aspect_ratio</th>\n",
       "      <th>movie_facebook_likes</th>\n",
       "    </tr>\n",
       "  </thead>\n",
       "  <tbody>\n",
       "    <tr>\n",
       "      <th>num_critic_for_reviews</th>\n",
       "      <td>1.000000</td>\n",
       "      <td>0.258486</td>\n",
       "      <td>0.180674</td>\n",
       "      <td>0.271646</td>\n",
       "      <td>0.190016</td>\n",
       "      <td>0.480601</td>\n",
       "      <td>0.624943</td>\n",
       "      <td>0.263203</td>\n",
       "      <td>-0.033897</td>\n",
       "      <td>0.609387</td>\n",
       "      <td>0.119994</td>\n",
       "      <td>0.275707</td>\n",
       "      <td>0.282306</td>\n",
       "      <td>0.305303</td>\n",
       "      <td>-0.049786</td>\n",
       "      <td>0.683176</td>\n",
       "    </tr>\n",
       "    <tr>\n",
       "      <th>duration</th>\n",
       "      <td>0.258486</td>\n",
       "      <td>1.000000</td>\n",
       "      <td>0.173296</td>\n",
       "      <td>0.123558</td>\n",
       "      <td>0.088449</td>\n",
       "      <td>0.250298</td>\n",
       "      <td>0.314765</td>\n",
       "      <td>0.123074</td>\n",
       "      <td>0.013469</td>\n",
       "      <td>0.328403</td>\n",
       "      <td>0.074276</td>\n",
       "      <td>-0.135038</td>\n",
       "      <td>0.131673</td>\n",
       "      <td>0.261662</td>\n",
       "      <td>-0.090071</td>\n",
       "      <td>0.196605</td>\n",
       "    </tr>\n",
       "    <tr>\n",
       "      <th>director_facebook_likes</th>\n",
       "      <td>0.180674</td>\n",
       "      <td>0.173296</td>\n",
       "      <td>1.000000</td>\n",
       "      <td>0.120199</td>\n",
       "      <td>0.090723</td>\n",
       "      <td>0.144945</td>\n",
       "      <td>0.297057</td>\n",
       "      <td>0.119549</td>\n",
       "      <td>-0.041268</td>\n",
       "      <td>0.221890</td>\n",
       "      <td>0.021090</td>\n",
       "      <td>-0.063820</td>\n",
       "      <td>0.119601</td>\n",
       "      <td>0.170802</td>\n",
       "      <td>0.001642</td>\n",
       "      <td>0.162048</td>\n",
       "    </tr>\n",
       "    <tr>\n",
       "      <th>actor_3_facebook_likes</th>\n",
       "      <td>0.271646</td>\n",
       "      <td>0.123558</td>\n",
       "      <td>0.120199</td>\n",
       "      <td>1.000000</td>\n",
       "      <td>0.249927</td>\n",
       "      <td>0.308026</td>\n",
       "      <td>0.287239</td>\n",
       "      <td>0.473920</td>\n",
       "      <td>0.099368</td>\n",
       "      <td>0.230189</td>\n",
       "      <td>0.047451</td>\n",
       "      <td>0.096137</td>\n",
       "      <td>0.559662</td>\n",
       "      <td>0.052633</td>\n",
       "      <td>-0.003366</td>\n",
       "      <td>0.278844</td>\n",
       "    </tr>\n",
       "    <tr>\n",
       "      <th>actor_1_facebook_likes</th>\n",
       "      <td>0.190016</td>\n",
       "      <td>0.088449</td>\n",
       "      <td>0.090723</td>\n",
       "      <td>0.249927</td>\n",
       "      <td>1.000000</td>\n",
       "      <td>0.154468</td>\n",
       "      <td>0.192804</td>\n",
       "      <td>0.951661</td>\n",
       "      <td>0.072257</td>\n",
       "      <td>0.145461</td>\n",
       "      <td>0.022639</td>\n",
       "      <td>0.086873</td>\n",
       "      <td>0.390487</td>\n",
       "      <td>0.076099</td>\n",
       "      <td>-0.020049</td>\n",
       "      <td>0.135348</td>\n",
       "    </tr>\n",
       "    <tr>\n",
       "      <th>gross</th>\n",
       "      <td>0.480601</td>\n",
       "      <td>0.250298</td>\n",
       "      <td>0.144945</td>\n",
       "      <td>0.308026</td>\n",
       "      <td>0.154468</td>\n",
       "      <td>1.000000</td>\n",
       "      <td>0.637271</td>\n",
       "      <td>0.247400</td>\n",
       "      <td>-0.027755</td>\n",
       "      <td>0.559958</td>\n",
       "      <td>0.102179</td>\n",
       "      <td>0.030886</td>\n",
       "      <td>0.262768</td>\n",
       "      <td>0.198021</td>\n",
       "      <td>0.069346</td>\n",
       "      <td>0.378082</td>\n",
       "    </tr>\n",
       "    <tr>\n",
       "      <th>num_voted_users</th>\n",
       "      <td>0.624943</td>\n",
       "      <td>0.314765</td>\n",
       "      <td>0.297057</td>\n",
       "      <td>0.287239</td>\n",
       "      <td>0.192804</td>\n",
       "      <td>0.637271</td>\n",
       "      <td>1.000000</td>\n",
       "      <td>0.265911</td>\n",
       "      <td>-0.026998</td>\n",
       "      <td>0.798406</td>\n",
       "      <td>0.079621</td>\n",
       "      <td>0.007397</td>\n",
       "      <td>0.270790</td>\n",
       "      <td>0.410965</td>\n",
       "      <td>-0.014761</td>\n",
       "      <td>0.537924</td>\n",
       "    </tr>\n",
       "    <tr>\n",
       "      <th>cast_total_facebook_likes</th>\n",
       "      <td>0.263203</td>\n",
       "      <td>0.123074</td>\n",
       "      <td>0.119549</td>\n",
       "      <td>0.473920</td>\n",
       "      <td>0.951661</td>\n",
       "      <td>0.247400</td>\n",
       "      <td>0.265911</td>\n",
       "      <td>1.000000</td>\n",
       "      <td>0.091475</td>\n",
       "      <td>0.206923</td>\n",
       "      <td>0.036557</td>\n",
       "      <td>0.109971</td>\n",
       "      <td>0.628404</td>\n",
       "      <td>0.085787</td>\n",
       "      <td>-0.017885</td>\n",
       "      <td>0.209786</td>\n",
       "    </tr>\n",
       "    <tr>\n",
       "      <th>facenumber_in_poster</th>\n",
       "      <td>-0.033897</td>\n",
       "      <td>0.013469</td>\n",
       "      <td>-0.041268</td>\n",
       "      <td>0.099368</td>\n",
       "      <td>0.072257</td>\n",
       "      <td>-0.027755</td>\n",
       "      <td>-0.026998</td>\n",
       "      <td>0.091475</td>\n",
       "      <td>1.000000</td>\n",
       "      <td>-0.069018</td>\n",
       "      <td>-0.019559</td>\n",
       "      <td>0.061504</td>\n",
       "      <td>0.071228</td>\n",
       "      <td>-0.062958</td>\n",
       "      <td>0.013713</td>\n",
       "      <td>0.008918</td>\n",
       "    </tr>\n",
       "    <tr>\n",
       "      <th>num_user_for_reviews</th>\n",
       "      <td>0.609387</td>\n",
       "      <td>0.328403</td>\n",
       "      <td>0.221890</td>\n",
       "      <td>0.230189</td>\n",
       "      <td>0.145461</td>\n",
       "      <td>0.559958</td>\n",
       "      <td>0.798406</td>\n",
       "      <td>0.206923</td>\n",
       "      <td>-0.069018</td>\n",
       "      <td>1.000000</td>\n",
       "      <td>0.084292</td>\n",
       "      <td>-0.003147</td>\n",
       "      <td>0.219496</td>\n",
       "      <td>0.292475</td>\n",
       "      <td>-0.024719</td>\n",
       "      <td>0.400594</td>\n",
       "    </tr>\n",
       "    <tr>\n",
       "      <th>budget</th>\n",
       "      <td>0.119994</td>\n",
       "      <td>0.074276</td>\n",
       "      <td>0.021090</td>\n",
       "      <td>0.047451</td>\n",
       "      <td>0.022639</td>\n",
       "      <td>0.102179</td>\n",
       "      <td>0.079621</td>\n",
       "      <td>0.036557</td>\n",
       "      <td>-0.019559</td>\n",
       "      <td>0.084292</td>\n",
       "      <td>1.000000</td>\n",
       "      <td>0.045726</td>\n",
       "      <td>0.044236</td>\n",
       "      <td>0.030688</td>\n",
       "      <td>0.006598</td>\n",
       "      <td>0.062039</td>\n",
       "    </tr>\n",
       "    <tr>\n",
       "      <th>title_year</th>\n",
       "      <td>0.275707</td>\n",
       "      <td>-0.135038</td>\n",
       "      <td>-0.063820</td>\n",
       "      <td>0.096137</td>\n",
       "      <td>0.086873</td>\n",
       "      <td>0.030886</td>\n",
       "      <td>0.007397</td>\n",
       "      <td>0.109971</td>\n",
       "      <td>0.061504</td>\n",
       "      <td>-0.003147</td>\n",
       "      <td>0.045726</td>\n",
       "      <td>1.000000</td>\n",
       "      <td>0.101890</td>\n",
       "      <td>-0.209167</td>\n",
       "      <td>0.159973</td>\n",
       "      <td>0.218678</td>\n",
       "    </tr>\n",
       "    <tr>\n",
       "      <th>actor_2_facebook_likes</th>\n",
       "      <td>0.282306</td>\n",
       "      <td>0.131673</td>\n",
       "      <td>0.119601</td>\n",
       "      <td>0.559662</td>\n",
       "      <td>0.390487</td>\n",
       "      <td>0.262768</td>\n",
       "      <td>0.270790</td>\n",
       "      <td>0.628404</td>\n",
       "      <td>0.071228</td>\n",
       "      <td>0.219496</td>\n",
       "      <td>0.044236</td>\n",
       "      <td>0.101890</td>\n",
       "      <td>1.000000</td>\n",
       "      <td>0.083808</td>\n",
       "      <td>-0.007783</td>\n",
       "      <td>0.243487</td>\n",
       "    </tr>\n",
       "    <tr>\n",
       "      <th>imdb_score</th>\n",
       "      <td>0.305303</td>\n",
       "      <td>0.261662</td>\n",
       "      <td>0.170802</td>\n",
       "      <td>0.052633</td>\n",
       "      <td>0.076099</td>\n",
       "      <td>0.198021</td>\n",
       "      <td>0.410965</td>\n",
       "      <td>0.085787</td>\n",
       "      <td>-0.062958</td>\n",
       "      <td>0.292475</td>\n",
       "      <td>0.030688</td>\n",
       "      <td>-0.209167</td>\n",
       "      <td>0.083808</td>\n",
       "      <td>1.000000</td>\n",
       "      <td>0.059445</td>\n",
       "      <td>0.247049</td>\n",
       "    </tr>\n",
       "    <tr>\n",
       "      <th>aspect_ratio</th>\n",
       "      <td>-0.049786</td>\n",
       "      <td>-0.090071</td>\n",
       "      <td>0.001642</td>\n",
       "      <td>-0.003366</td>\n",
       "      <td>-0.020049</td>\n",
       "      <td>0.069346</td>\n",
       "      <td>-0.014761</td>\n",
       "      <td>-0.017885</td>\n",
       "      <td>0.013713</td>\n",
       "      <td>-0.024719</td>\n",
       "      <td>0.006598</td>\n",
       "      <td>0.159973</td>\n",
       "      <td>-0.007783</td>\n",
       "      <td>0.059445</td>\n",
       "      <td>1.000000</td>\n",
       "      <td>0.025737</td>\n",
       "    </tr>\n",
       "    <tr>\n",
       "      <th>movie_facebook_likes</th>\n",
       "      <td>0.683176</td>\n",
       "      <td>0.196605</td>\n",
       "      <td>0.162048</td>\n",
       "      <td>0.278844</td>\n",
       "      <td>0.135348</td>\n",
       "      <td>0.378082</td>\n",
       "      <td>0.537924</td>\n",
       "      <td>0.209786</td>\n",
       "      <td>0.008918</td>\n",
       "      <td>0.400594</td>\n",
       "      <td>0.062039</td>\n",
       "      <td>0.218678</td>\n",
       "      <td>0.243487</td>\n",
       "      <td>0.247049</td>\n",
       "      <td>0.025737</td>\n",
       "      <td>1.000000</td>\n",
       "    </tr>\n",
       "  </tbody>\n",
       "</table>\n",
       "</div>"
      ],
      "text/plain": [
       "                           num_critic_for_reviews  duration  \\\n",
       "num_critic_for_reviews                   1.000000  0.258486   \n",
       "duration                                 0.258486  1.000000   \n",
       "director_facebook_likes                  0.180674  0.173296   \n",
       "actor_3_facebook_likes                   0.271646  0.123558   \n",
       "actor_1_facebook_likes                   0.190016  0.088449   \n",
       "gross                                    0.480601  0.250298   \n",
       "num_voted_users                          0.624943  0.314765   \n",
       "cast_total_facebook_likes                0.263203  0.123074   \n",
       "facenumber_in_poster                    -0.033897  0.013469   \n",
       "num_user_for_reviews                     0.609387  0.328403   \n",
       "budget                                   0.119994  0.074276   \n",
       "title_year                               0.275707 -0.135038   \n",
       "actor_2_facebook_likes                   0.282306  0.131673   \n",
       "imdb_score                               0.305303  0.261662   \n",
       "aspect_ratio                            -0.049786 -0.090071   \n",
       "movie_facebook_likes                     0.683176  0.196605   \n",
       "\n",
       "                           director_facebook_likes  actor_3_facebook_likes  \\\n",
       "num_critic_for_reviews                    0.180674                0.271646   \n",
       "duration                                  0.173296                0.123558   \n",
       "director_facebook_likes                   1.000000                0.120199   \n",
       "actor_3_facebook_likes                    0.120199                1.000000   \n",
       "actor_1_facebook_likes                    0.090723                0.249927   \n",
       "gross                                     0.144945                0.308026   \n",
       "num_voted_users                           0.297057                0.287239   \n",
       "cast_total_facebook_likes                 0.119549                0.473920   \n",
       "facenumber_in_poster                     -0.041268                0.099368   \n",
       "num_user_for_reviews                      0.221890                0.230189   \n",
       "budget                                    0.021090                0.047451   \n",
       "title_year                               -0.063820                0.096137   \n",
       "actor_2_facebook_likes                    0.119601                0.559662   \n",
       "imdb_score                                0.170802                0.052633   \n",
       "aspect_ratio                              0.001642               -0.003366   \n",
       "movie_facebook_likes                      0.162048                0.278844   \n",
       "\n",
       "                           actor_1_facebook_likes     gross  num_voted_users  \\\n",
       "num_critic_for_reviews                   0.190016  0.480601         0.624943   \n",
       "duration                                 0.088449  0.250298         0.314765   \n",
       "director_facebook_likes                  0.090723  0.144945         0.297057   \n",
       "actor_3_facebook_likes                   0.249927  0.308026         0.287239   \n",
       "actor_1_facebook_likes                   1.000000  0.154468         0.192804   \n",
       "gross                                    0.154468  1.000000         0.637271   \n",
       "num_voted_users                          0.192804  0.637271         1.000000   \n",
       "cast_total_facebook_likes                0.951661  0.247400         0.265911   \n",
       "facenumber_in_poster                     0.072257 -0.027755        -0.026998   \n",
       "num_user_for_reviews                     0.145461  0.559958         0.798406   \n",
       "budget                                   0.022639  0.102179         0.079621   \n",
       "title_year                               0.086873  0.030886         0.007397   \n",
       "actor_2_facebook_likes                   0.390487  0.262768         0.270790   \n",
       "imdb_score                               0.076099  0.198021         0.410965   \n",
       "aspect_ratio                            -0.020049  0.069346        -0.014761   \n",
       "movie_facebook_likes                     0.135348  0.378082         0.537924   \n",
       "\n",
       "                           cast_total_facebook_likes  facenumber_in_poster  \\\n",
       "num_critic_for_reviews                      0.263203             -0.033897   \n",
       "duration                                    0.123074              0.013469   \n",
       "director_facebook_likes                     0.119549             -0.041268   \n",
       "actor_3_facebook_likes                      0.473920              0.099368   \n",
       "actor_1_facebook_likes                      0.951661              0.072257   \n",
       "gross                                       0.247400             -0.027755   \n",
       "num_voted_users                             0.265911             -0.026998   \n",
       "cast_total_facebook_likes                   1.000000              0.091475   \n",
       "facenumber_in_poster                        0.091475              1.000000   \n",
       "num_user_for_reviews                        0.206923             -0.069018   \n",
       "budget                                      0.036557             -0.019559   \n",
       "title_year                                  0.109971              0.061504   \n",
       "actor_2_facebook_likes                      0.628404              0.071228   \n",
       "imdb_score                                  0.085787             -0.062958   \n",
       "aspect_ratio                               -0.017885              0.013713   \n",
       "movie_facebook_likes                        0.209786              0.008918   \n",
       "\n",
       "                           num_user_for_reviews    budget  title_year  \\\n",
       "num_critic_for_reviews                 0.609387  0.119994    0.275707   \n",
       "duration                               0.328403  0.074276   -0.135038   \n",
       "director_facebook_likes                0.221890  0.021090   -0.063820   \n",
       "actor_3_facebook_likes                 0.230189  0.047451    0.096137   \n",
       "actor_1_facebook_likes                 0.145461  0.022639    0.086873   \n",
       "gross                                  0.559958  0.102179    0.030886   \n",
       "num_voted_users                        0.798406  0.079621    0.007397   \n",
       "cast_total_facebook_likes              0.206923  0.036557    0.109971   \n",
       "facenumber_in_poster                  -0.069018 -0.019559    0.061504   \n",
       "num_user_for_reviews                   1.000000  0.084292   -0.003147   \n",
       "budget                                 0.084292  1.000000    0.045726   \n",
       "title_year                            -0.003147  0.045726    1.000000   \n",
       "actor_2_facebook_likes                 0.219496  0.044236    0.101890   \n",
       "imdb_score                             0.292475  0.030688   -0.209167   \n",
       "aspect_ratio                          -0.024719  0.006598    0.159973   \n",
       "movie_facebook_likes                   0.400594  0.062039    0.218678   \n",
       "\n",
       "                           actor_2_facebook_likes  imdb_score  aspect_ratio  \\\n",
       "num_critic_for_reviews                   0.282306    0.305303     -0.049786   \n",
       "duration                                 0.131673    0.261662     -0.090071   \n",
       "director_facebook_likes                  0.119601    0.170802      0.001642   \n",
       "actor_3_facebook_likes                   0.559662    0.052633     -0.003366   \n",
       "actor_1_facebook_likes                   0.390487    0.076099     -0.020049   \n",
       "gross                                    0.262768    0.198021      0.069346   \n",
       "num_voted_users                          0.270790    0.410965     -0.014761   \n",
       "cast_total_facebook_likes                0.628404    0.085787     -0.017885   \n",
       "facenumber_in_poster                     0.071228   -0.062958      0.013713   \n",
       "num_user_for_reviews                     0.219496    0.292475     -0.024719   \n",
       "budget                                   0.044236    0.030688      0.006598   \n",
       "title_year                               0.101890   -0.209167      0.159973   \n",
       "actor_2_facebook_likes                   1.000000    0.083808     -0.007783   \n",
       "imdb_score                               0.083808    1.000000      0.059445   \n",
       "aspect_ratio                            -0.007783    0.059445      1.000000   \n",
       "movie_facebook_likes                     0.243487    0.247049      0.025737   \n",
       "\n",
       "                           movie_facebook_likes  \n",
       "num_critic_for_reviews                 0.683176  \n",
       "duration                               0.196605  \n",
       "director_facebook_likes                0.162048  \n",
       "actor_3_facebook_likes                 0.278844  \n",
       "actor_1_facebook_likes                 0.135348  \n",
       "gross                                  0.378082  \n",
       "num_voted_users                        0.537924  \n",
       "cast_total_facebook_likes              0.209786  \n",
       "facenumber_in_poster                   0.008918  \n",
       "num_user_for_reviews                   0.400594  \n",
       "budget                                 0.062039  \n",
       "title_year                             0.218678  \n",
       "actor_2_facebook_likes                 0.243487  \n",
       "imdb_score                             0.247049  \n",
       "aspect_ratio                           0.025737  \n",
       "movie_facebook_likes                   1.000000  "
      ]
     },
     "execution_count": 30,
     "metadata": {},
     "output_type": "execute_result"
    }
   ],
   "source": [
    "data.corr()"
   ]
  },
  {
   "cell_type": "code",
   "execution_count": 31,
   "metadata": {
    "collapsed": true
   },
   "outputs": [],
   "source": [
    "'''\n",
    "Method to take two equally-sized lists and return just the elements which lie \n",
    "on the Pareto frontier, sorted into order.\n",
    "Default behaviour is to find the maximum for both X and Y, but the option is\n",
    "available to specify maxX = False or maxY = False to find the minimum for either\n",
    "or both of the parameters.\n",
    "'''\n",
    "def pareto_frontier(Xs, Ys, maxX = True, maxY = True):\n",
    "# Sort the list in either ascending or descending order of X\n",
    "    myList = sorted([[Xs[i], Ys[i]] for i in range(len(Xs))], reverse=maxX)\n",
    "# Start the Pareto frontier with the first value in the sorted list\n",
    "    p_front = [myList[0]]    \n",
    "# Loop through the sorted list\n",
    "    for pair in myList[1:]:\n",
    "        if maxY: \n",
    "            if pair[1] >= p_front[-1][1]: # Look for higher values of Y…\n",
    "                p_front.append(pair) # … and add them to the Pareto frontier\n",
    "        else:\n",
    "            if pair[1] <= p_front[-1][1]: # Look for lower values of Y…\n",
    "                p_front.append(pair) # … and add them to the Pareto frontier\n",
    "# Turn resulting pairs back into a list of Xs and Ys\n",
    "    p_frontX = [pair[0] for pair in p_front]\n",
    "    p_frontY = [pair[1] for pair in p_front]\n",
    "    return p_frontX, p_frontY"
   ]
  },
  {
   "cell_type": "code",
   "execution_count": 32,
   "metadata": {},
   "outputs": [
    {
     "name": "stdout",
     "output_type": "stream",
     "text": [
      "Help on function pareto_frontier in module __main__:\n",
      "\n",
      "pareto_frontier(Xs, Ys, maxX=True, maxY=True)\n",
      "\n"
     ]
    }
   ],
   "source": [
    "help(pareto_frontier)"
   ]
  },
  {
   "cell_type": "code",
   "execution_count": 119,
   "metadata": {},
   "outputs": [
    {
     "data": {
      "text/html": [
       "<div>\n",
       "<table border=\"1\" class=\"dataframe\">\n",
       "  <thead>\n",
       "    <tr style=\"text-align: right;\">\n",
       "      <th></th>\n",
       "      <th>movie_title</th>\n",
       "      <th>imdb_score</th>\n",
       "      <th>num_voted_users</th>\n",
       "    </tr>\n",
       "  </thead>\n",
       "  <tbody>\n",
       "    <tr>\n",
       "      <th>1937</th>\n",
       "      <td>The Shawshank Redemption</td>\n",
       "      <td>9.3</td>\n",
       "      <td>1689764</td>\n",
       "    </tr>\n",
       "    <tr>\n",
       "      <th>66</th>\n",
       "      <td>The Dark Knight</td>\n",
       "      <td>9.0</td>\n",
       "      <td>1676169</td>\n",
       "    </tr>\n",
       "    <tr>\n",
       "      <th>270</th>\n",
       "      <td>The Lord of the Rings: The Fellowship of the R...</td>\n",
       "      <td>8.8</td>\n",
       "      <td>1238746</td>\n",
       "    </tr>\n",
       "    <tr>\n",
       "      <th>836</th>\n",
       "      <td>Forrest Gump</td>\n",
       "      <td>8.8</td>\n",
       "      <td>1251222</td>\n",
       "    </tr>\n",
       "    <tr>\n",
       "      <th>97</th>\n",
       "      <td>Inception</td>\n",
       "      <td>8.8</td>\n",
       "      <td>1468200</td>\n",
       "    </tr>\n",
       "    <tr>\n",
       "      <th>683</th>\n",
       "      <td>Fight Club</td>\n",
       "      <td>8.8</td>\n",
       "      <td>1347461</td>\n",
       "    </tr>\n",
       "    <tr>\n",
       "      <th>654</th>\n",
       "      <td>The Matrix</td>\n",
       "      <td>8.7</td>\n",
       "      <td>1217752</td>\n",
       "    </tr>\n",
       "    <tr>\n",
       "      <th>3</th>\n",
       "      <td>The Dark Knight Rises</td>\n",
       "      <td>8.5</td>\n",
       "      <td>1144337</td>\n",
       "    </tr>\n",
       "    <tr>\n",
       "      <th>17</th>\n",
       "      <td>The Avengers</td>\n",
       "      <td>8.1</td>\n",
       "      <td>995415</td>\n",
       "    </tr>\n",
       "    <tr>\n",
       "      <th>794</th>\n",
       "      <td>The Avengers</td>\n",
       "      <td>8.1</td>\n",
       "      <td>995415</td>\n",
       "    </tr>\n",
       "    <tr>\n",
       "      <th>0</th>\n",
       "      <td>Avatar</td>\n",
       "      <td>7.9</td>\n",
       "      <td>886204</td>\n",
       "    </tr>\n",
       "    <tr>\n",
       "      <th>26</th>\n",
       "      <td>Titanic</td>\n",
       "      <td>7.7</td>\n",
       "      <td>793059</td>\n",
       "    </tr>\n",
       "  </tbody>\n",
       "</table>\n",
       "</div>"
      ],
      "text/plain": [
       "                                            movie_title  imdb_score  \\\n",
       "1937                          The Shawshank Redemption          9.3   \n",
       "66                                     The Dark Knight          9.0   \n",
       "270   The Lord of the Rings: The Fellowship of the R...         8.8   \n",
       "836                                       Forrest Gump          8.8   \n",
       "97                                           Inception          8.8   \n",
       "683                                         Fight Club          8.8   \n",
       "654                                         The Matrix          8.7   \n",
       "3                                The Dark Knight Rises          8.5   \n",
       "17                                        The Avengers          8.1   \n",
       "794                                       The Avengers          8.1   \n",
       "0                                               Avatar          7.9   \n",
       "26                                             Titanic          7.7   \n",
       "\n",
       "      num_voted_users  \n",
       "1937          1689764  \n",
       "66            1676169  \n",
       "270           1238746  \n",
       "836           1251222  \n",
       "97            1468200  \n",
       "683           1347461  \n",
       "654           1217752  \n",
       "3             1144337  \n",
       "17             995415  \n",
       "794            995415  \n",
       "0              886204  \n",
       "26             793059  "
      ]
     },
     "execution_count": 119,
     "metadata": {},
     "output_type": "execute_result"
    }
   ],
   "source": [
    "data.movie_title\n",
    "\n",
    "\n",
    "#newdf = df[df.columns[2:4]]\n",
    "df = data[['movie_title','imdb_score','num_voted_users']]\n",
    "\n",
    "#for big in df['num_voted_users']:\n",
    "#    for small in p_front[1]: \n",
    "#        if big == small:\n",
    "#            print df\n",
    "pareto_list = p_front[1]\n",
    "\n",
    "#df.loc[df['a'] == 11,'b']\n",
    "\n",
    "#df.loc[df['num_voted_users'] == [e for e in pareto_list], 'movie_title']            \n",
    "            \n",
    "#df.index.tolist()\n",
    "\n",
    "df2 = df[df['num_voted_users'].isin(pareto_list)].sort_values('imdb_score', ascending=False)\n",
    "\n",
    "df2[df2['imdb_score']>7.5]"
   ]
  },
  {
   "cell_type": "code",
   "execution_count": null,
   "metadata": {
    "collapsed": true
   },
   "outputs": [],
   "source": [
    "#to check if all values in this cloumn are unique so that I can retrieve values using that attribute or feature\n",
    "\n",
    "if len(x) > len(set(x)):"
   ]
  },
  {
   "cell_type": "code",
   "execution_count": null,
   "metadata": {
    "collapsed": true
   },
   "outputs": [],
   "source": [
    "def pareto_frontier_multi_max(myArray):\n",
    "    # Sort on first dimension (descending value) (weighted sum method using the sum of all elements)\n",
    "    myArray[:] = myArray[np.array([sum(x) for x in myArray]).argsort()][::-1]\n",
    "    pareto_frontier = None\n",
    "    # Test next rows against the last row in pareto_frontier\n",
    "    while True:\n",
    "        # The top element is by definition Pareto (or it would have been removed by domination)\n",
    "        if(pareto_frontier == None):\n",
    "            pareto_frontier = myArray[0:1,:]\n",
    "        else:\n",
    "            pareto_frontier = np.concatenate((pareto_frontier, myArray[0:1,:]))\n",
    "\n",
    "        # remove the Pareto point that we've added to the Pareto frontier\n",
    "        myArray = np.delete(myArray, 0, 0)\n",
    "\n",
    "        rowNr = 0\n",
    "        while len(myArray) != 0 and rowNr < len(myArray):\n",
    "            row = myArray[rowNr:rowNr+1,:][0]\n",
    "            if sum([row[x] <= pareto_frontier[-1][x]\n",
    "                    for x in range(len(row))]) == len(row):\n",
    "                # If it is worse on all features remove the row from the array\n",
    "                myArray = np.delete(myArray, rowNr, 0)\n",
    "            else:\n",
    "                rowNr += 1\n",
    "\n",
    "        if len(myArray) == 0:\n",
    "            break\n",
    "    return pareto_frontier"
   ]
  },
  {
   "cell_type": "code",
   "execution_count": 8,
   "metadata": {},
   "outputs": [
    {
     "name": "stdout",
     "output_type": "stream",
     "text": [
      "\n",
      "Input points\n",
      "[[1, 1, 1], [2, 2, 2], [3, 3, 3], [4, 4, 4]]\n",
      "******** non-dominated answers ********\n",
      "set([(4, 4, 4)])\n",
      "******** dominated answers ********\n",
      "set([(3, 3, 3), (2, 2, 2), (1, 1, 1)])\n",
      "\n",
      "Input points\n",
      "[[1, 2], [2, 1]]\n",
      "******** non-dominated answers ********\n",
      "set([(1, 2), (2, 1)])\n",
      "******** dominated answers ********\n",
      "set([])\n"
     ]
    }
   ],
   "source": [
    "import matplotlib.pyplot as plt\n",
    "def simple_cull(inputPoints, dominates):\n",
    "    paretoPoints = set()\n",
    "    candidateRowNr = 0\n",
    "    dominatedPoints = set()\n",
    "    while len(inputPoints):\n",
    "        candidateRow = inputPoints[candidateRowNr]\n",
    "        inputPoints.remove(candidateRow)\n",
    "        rowNr = 0\n",
    "        nonDominated = True\n",
    "        while len(inputPoints) != 0 and rowNr < len(inputPoints):\n",
    "            row = inputPoints[rowNr]\n",
    "            if dominates(candidateRow, row):\n",
    "                inputPoints.remove(row)\n",
    "                dominatedPoints.add(tuple(row))\n",
    "            elif dominates(row, candidateRow):\n",
    "                nonDominated = False\n",
    "                dominatedPoints.add(tuple(candidateRow))\n",
    "                rowNr += 1\n",
    "            else:\n",
    "                rowNr += 1\n",
    "                \n",
    "        if nonDominated:\n",
    "            # add the non-dominated point to the Pareto frontier\n",
    "            paretoPoints.add(tuple(candidateRow))\n",
    "\n",
    "    return paretoPoints, dominatedPoints\n",
    "\n",
    "def dominates(row, anotherRow):\n",
    "    return sum([row[x] >= anotherRow[x] for x in range(len(row))]) == len(row) # maximization domination\n",
    "\n",
    "def testPoints(points):\n",
    "    fig = plt.figure()\n",
    "    ax1 = fig.add_subplot(111)\n",
    "    paretoPoints, dominatedPoints = simple_cull(list(points), dominates)\n",
    "    print(\"\\nInput points\")\n",
    "    print(points)\n",
    "    print(\"*\"*8 + \" non-dominated answers \" + (\"*\"*8))\n",
    "    print(paretoPoints)\n",
    "    plt.scatter(paretoPoints, dominatedPoints)\n",
    "    print(\"*\"*8 + \" dominated answers \" + (\"*\"*8))\n",
    "    print (dominatedPoints)\n",
    "    \n",
    "#testPoints([[1,1,1],[2,2,2],[3,3,3],[4,4,4]])\n",
    "\n",
    "testPoints([[1,2],[2,1]])\n",
    "\n",
    "fig = plt.figure()\n",
    "ax1 = fig.add_subplot(111)\n",
    "\n",
    "ax1.scatter(x[:4], y[:4], s=10, c='b', marker=\"s\", label='first')\n",
    "ax1.scatter(x[40:],y[40:], s=10, c='r', marker=\"o\", label='second')\n",
    "plt.legend(loc='upper left');\n",
    "plt.show()"
   ]
  },
  {
   "cell_type": "code",
   "execution_count": 12,
   "metadata": {},
   "outputs": [
    {
     "name": "stdout",
     "output_type": "stream",
     "text": [
      "\n",
      "Input points\n",
      "[[1, 2], [2, 1]]\n",
      "******** non-dominated answers ********\n",
      "set([(1, 2), (2, 1)])\n",
      "******** dominated answers ********\n",
      "set([])\n"
     ]
    },
    {
     "ename": "TypeError",
     "evalue": "scatter() takes at least 2 arguments (1 given)",
     "output_type": "error",
     "traceback": [
      "\u001b[1;31m---------------------------------------------------------------------------\u001b[0m",
      "\u001b[1;31mTypeError\u001b[0m                                 Traceback (most recent call last)",
      "\u001b[1;32m<ipython-input-12-a2471dd352ed>\u001b[0m in \u001b[0;36m<module>\u001b[1;34m()\u001b[0m\n\u001b[0;32m     41\u001b[0m     \u001b[1;31m#testPoints([[1,1,1],[2,2,2],[3,3,3],[4,4,4]])\u001b[0m\u001b[1;33m\u001b[0m\u001b[1;33m\u001b[0m\u001b[0m\n\u001b[0;32m     42\u001b[0m \u001b[1;33m\u001b[0m\u001b[0m\n\u001b[1;32m---> 43\u001b[1;33m \u001b[0mtestPoints\u001b[0m\u001b[1;33m(\u001b[0m\u001b[1;33m[\u001b[0m\u001b[1;33m[\u001b[0m\u001b[1;36m1\u001b[0m\u001b[1;33m,\u001b[0m\u001b[1;36m2\u001b[0m\u001b[1;33m]\u001b[0m\u001b[1;33m,\u001b[0m\u001b[1;33m[\u001b[0m\u001b[1;36m2\u001b[0m\u001b[1;33m,\u001b[0m\u001b[1;36m1\u001b[0m\u001b[1;33m]\u001b[0m\u001b[1;33m]\u001b[0m\u001b[1;33m)\u001b[0m\u001b[1;33m\u001b[0m\u001b[0m\n\u001b[0m",
      "\u001b[1;32m<ipython-input-12-a2471dd352ed>\u001b[0m in \u001b[0;36mtestPoints\u001b[1;34m(points)\u001b[0m\n\u001b[0;32m     37\u001b[0m     \u001b[1;32mprint\u001b[0m\u001b[1;33m(\u001b[0m\u001b[1;34m\"*\"\u001b[0m\u001b[1;33m*\u001b[0m\u001b[1;36m8\u001b[0m \u001b[1;33m+\u001b[0m \u001b[1;34m\" dominated answers \"\u001b[0m \u001b[1;33m+\u001b[0m \u001b[1;33m(\u001b[0m\u001b[1;34m\"*\"\u001b[0m\u001b[1;33m*\u001b[0m\u001b[1;36m8\u001b[0m\u001b[1;33m)\u001b[0m\u001b[1;33m)\u001b[0m\u001b[1;33m\u001b[0m\u001b[0m\n\u001b[0;32m     38\u001b[0m     \u001b[1;32mprint\u001b[0m \u001b[1;33m(\u001b[0m\u001b[0mdominatedPoints\u001b[0m\u001b[1;33m)\u001b[0m\u001b[1;33m\u001b[0m\u001b[0m\n\u001b[1;32m---> 39\u001b[1;33m     \u001b[0mplt\u001b[0m\u001b[1;33m.\u001b[0m\u001b[0mscatter\u001b[0m\u001b[1;33m(\u001b[0m\u001b[0mpoints\u001b[0m\u001b[1;33m)\u001b[0m\u001b[1;33m\u001b[0m\u001b[0m\n\u001b[0m\u001b[0;32m     40\u001b[0m     \u001b[0mplt\u001b[0m\u001b[1;33m.\u001b[0m\u001b[0mplot\u001b[0m\u001b[1;33m(\u001b[0m\u001b[0mparetoPoints\u001b[0m\u001b[1;33m,\u001b[0m \u001b[0mdominatedPoints\u001b[0m\u001b[1;33m)\u001b[0m\u001b[1;33m\u001b[0m\u001b[0m\n\u001b[0;32m     41\u001b[0m     \u001b[1;31m#testPoints([[1,1,1],[2,2,2],[3,3,3],[4,4,4]])\u001b[0m\u001b[1;33m\u001b[0m\u001b[1;33m\u001b[0m\u001b[0m\n",
      "\u001b[1;31mTypeError\u001b[0m: scatter() takes at least 2 arguments (1 given)"
     ]
    }
   ],
   "source": [
    "def simple_cull(inputPoints, dominates):\n",
    "    paretoPoints = set()\n",
    "    candidateRowNr = 0\n",
    "    dominatedPoints = set()\n",
    "    while len(inputPoints):\n",
    "        candidateRow = inputPoints[candidateRowNr]\n",
    "        inputPoints.remove(candidateRow)\n",
    "        rowNr = 0\n",
    "        nonDominated = True\n",
    "        while len(inputPoints) != 0 and rowNr < len(inputPoints):\n",
    "            row = inputPoints[rowNr]\n",
    "            if dominates(candidateRow, row):\n",
    "                inputPoints.remove(row)\n",
    "                dominatedPoints.add(tuple(row))\n",
    "            elif dominates(row, candidateRow):\n",
    "                nonDominated = False\n",
    "                dominatedPoints.add(tuple(candidateRow))\n",
    "                rowNr += 1\n",
    "            else:\n",
    "                rowNr += 1\n",
    "                \n",
    "        if nonDominated:\n",
    "            # add the non-dominated point to the Pareto frontier\n",
    "            paretoPoints.add(tuple(candidateRow))\n",
    "\n",
    "    return paretoPoints, dominatedPoints\n",
    "\n",
    "def dominates(row, anotherRow):\n",
    "    return sum([row[x] >= anotherRow[x] for x in range(len(row))]) == len(row) # maximization domination\n",
    "\n",
    "def testPoints(points):\n",
    "    paretoPoints, dominatedPoints = simple_cull(list(points), dominates)\n",
    "    print(\"\\nInput points\")\n",
    "    print(points)\n",
    "    print(\"*\"*8 + \" non-dominated answers \" + (\"*\"*8))\n",
    "    print(paretoPoints)\n",
    "    print(\"*\"*8 + \" dominated answers \" + (\"*\"*8))\n",
    "    print (dominatedPoints)\n",
    "    plt.scatter(points)\n",
    "    plt.plot(paretoPoints, dominatedPoints)\n",
    "    #testPoints([[1,1,1],[2,2,2],[3,3,3],[4,4,4]])\n",
    "\n",
    "testPoints([[1,2],[2,1]])"
   ]
  },
  {
   "cell_type": "code",
   "execution_count": 1,
   "metadata": {},
   "outputs": [
    {
     "ename": "NameError",
     "evalue": "name 'pareto_frontier' is not defined",
     "output_type": "error",
     "traceback": [
      "\u001b[1;31m---------------------------------------------------------------------------\u001b[0m",
      "\u001b[1;31mNameError\u001b[0m                                 Traceback (most recent call last)",
      "\u001b[1;32m<ipython-input-1-bc77dc22a65d>\u001b[0m in \u001b[0;36m<module>\u001b[1;34m\u001b[0m\n\u001b[0;32m      3\u001b[0m \u001b[1;31m#Xs, Ys = pareto_frontier(score_list, num_vot_list)\u001b[0m\u001b[1;33m\u001b[0m\u001b[1;33m\u001b[0m\u001b[1;33m\u001b[0m\u001b[0m\n\u001b[0;32m      4\u001b[0m \u001b[1;31m# Find lowest values for cost and highest for savings\u001b[0m\u001b[1;33m\u001b[0m\u001b[1;33m\u001b[0m\u001b[1;33m\u001b[0m\u001b[0m\n\u001b[1;32m----> 5\u001b[1;33m \u001b[0mp_front\u001b[0m \u001b[1;33m=\u001b[0m \u001b[0mpareto_frontier\u001b[0m\u001b[1;33m(\u001b[0m\u001b[0mscore_list\u001b[0m\u001b[1;33m,\u001b[0m \u001b[0mnum_vot_list\u001b[0m\u001b[1;33m,\u001b[0m \u001b[0mmaxX\u001b[0m \u001b[1;33m=\u001b[0m \u001b[1;32mFalse\u001b[0m\u001b[1;33m,\u001b[0m \u001b[0mmaxY\u001b[0m \u001b[1;33m=\u001b[0m \u001b[1;32mTrue\u001b[0m\u001b[1;33m)\u001b[0m\u001b[1;33m\u001b[0m\u001b[1;33m\u001b[0m\u001b[0m\n\u001b[0m\u001b[0;32m      6\u001b[0m \u001b[1;31m# Plot a scatter graph of all results\u001b[0m\u001b[1;33m\u001b[0m\u001b[1;33m\u001b[0m\u001b[1;33m\u001b[0m\u001b[0m\n\u001b[0;32m      7\u001b[0m \u001b[0mplt\u001b[0m\u001b[1;33m.\u001b[0m\u001b[0mscatter\u001b[0m\u001b[1;33m(\u001b[0m\u001b[0mscore_list\u001b[0m\u001b[1;33m,\u001b[0m \u001b[0mnum_vot_list\u001b[0m\u001b[1;33m)\u001b[0m\u001b[1;33m\u001b[0m\u001b[1;33m\u001b[0m\u001b[0m\n",
      "\u001b[1;31mNameError\u001b[0m: name 'pareto_frontier' is not defined"
     ]
    }
   ],
   "source": [
    "\n",
    "import matplotlib.pyplot as plt   \n",
    "#Xs, Ys = pareto_frontier(score_list, num_vot_list)\n",
    "# Find lowest values for cost and highest for savings\n",
    "p_front = pareto_frontier(score_list, num_vot_list, maxX = False, maxY = True)\n",
    "# Plot a scatter graph of all results\n",
    "plt.scatter(score_list, num_vot_list)\n",
    "# Then plot the Pareto frontier on top\n",
    "plt.plot(p_front[0], p_front[1])\n",
    "\n"
   ]
  },
  {
   "cell_type": "code",
   "execution_count": null,
   "metadata": {
    "collapsed": true
   },
   "outputs": [],
   "source": []
  }
 ],
 "metadata": {
  "kernelspec": {
   "display_name": "Python 3",
   "language": "python",
   "name": "python3"
  },
  "language_info": {
   "codemirror_mode": {
    "name": "ipython",
    "version": 3
   },
   "file_extension": ".py",
   "mimetype": "text/x-python",
   "name": "python",
   "nbconvert_exporter": "python",
   "pygments_lexer": "ipython3",
   "version": "3.6.8"
  }
 },
 "nbformat": 4,
 "nbformat_minor": 1
}
